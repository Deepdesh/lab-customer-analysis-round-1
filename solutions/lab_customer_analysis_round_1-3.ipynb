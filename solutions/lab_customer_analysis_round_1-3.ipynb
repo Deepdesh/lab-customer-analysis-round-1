{
  "nbformat": 4,
  "nbformat_minor": 0,
  "metadata": {
    "colab": {
      "name": "lab-customer-analysis-round-1.ipynb",
      "provenance": [],
      "collapsed_sections": []
    },
    "kernelspec": {
      "name": "python3",
      "display_name": "Python 3"
    },
    "language_info": {
      "name": "python"
    }
  },
  "cells": [
    {
      "cell_type": "markdown",
      "metadata": {
        "id": "idttuuEQ4kp2"
      },
      "source": [
        "**Lab | Customer Analysis Round 1**\n",
        "\n",
        "Remember the process:\n",
        "\n",
        "1. Case Study\n",
        "2. Get data\n",
        "3. Cleaning/Wrangling/EDA\n",
        "4. Processing Data\n",
        "5. Modeling\n",
        "6. Validation\n",
        "7. Reporting"
      ]
    },
    {
      "cell_type": "markdown",
      "metadata": {
        "id": "at2jwaKM4xKa"
      },
      "source": [
        "Abstract\n",
        "\n",
        "The objective of this data is to understand customer demographics and buying behavior. Later during the week, we will use predictive analytics to analyze the most profitable customers and how they interact. After that, we will take targeted actions to increase profitable customer response, retention, and growth.\n",
        "\n",
        "For this lab, we will gather the data from 3 csv files that are provided in the files_for_lab folder. Use that data and complete the data cleaning tasks as mentioned later in the instructions."
      ]
    },
    {
      "cell_type": "markdown",
      "metadata": {
        "id": "YZA9PhAO43FI"
      },
      "source": [
        "**Tasks**"
      ]
    },
    {
      "cell_type": "markdown",
      "metadata": {
        "id": "pA8HvghI4_ux"
      },
      "source": [
        "Task 1 Read the three files into python as dataframes\n",
        "\n"
      ]
    },
    {
      "cell_type": "code",
      "metadata": {
        "id": "Gbhog-r75mU0"
      },
      "source": [
        "#Importing necessary libraries\n",
        "import pandas as pd\n",
        "import numpy as np"
      ],
      "execution_count": null,
      "outputs": []
    },
    {
      "cell_type": "code",
      "metadata": {
        "colab": {
          "base_uri": "https://localhost:8080/",
          "height": 323
        },
        "id": "AzrG91334tMM",
        "outputId": "7f11c0d0-da63-48b5-c38c-7cc2f1b26723"
      },
      "source": [
        "#Assigning and reading the first file (file1.csv)\n",
        "url1 = 'https://raw.githubusercontent.com/ironhack-labs/lab-customer-analysis-round-1/master/files_for_lab/csv_files/file1.csv'\n",
        "data_file1 = pd.read_csv(url1)\n",
        "data_file1.head()\n"
      ],
      "execution_count": null,
      "outputs": [
        {
          "output_type": "execute_result",
          "data": {
            "text/html": [
              "<div>\n",
              "<style scoped>\n",
              "    .dataframe tbody tr th:only-of-type {\n",
              "        vertical-align: middle;\n",
              "    }\n",
              "\n",
              "    .dataframe tbody tr th {\n",
              "        vertical-align: top;\n",
              "    }\n",
              "\n",
              "    .dataframe thead th {\n",
              "        text-align: right;\n",
              "    }\n",
              "</style>\n",
              "<table border=\"1\" class=\"dataframe\">\n",
              "  <thead>\n",
              "    <tr style=\"text-align: right;\">\n",
              "      <th></th>\n",
              "      <th>Customer</th>\n",
              "      <th>ST</th>\n",
              "      <th>GENDER</th>\n",
              "      <th>Education</th>\n",
              "      <th>Customer Lifetime Value</th>\n",
              "      <th>Income</th>\n",
              "      <th>Monthly Premium Auto</th>\n",
              "      <th>Number of Open Complaints</th>\n",
              "      <th>Policy Type</th>\n",
              "      <th>Vehicle Class</th>\n",
              "      <th>Total Claim Amount</th>\n",
              "    </tr>\n",
              "  </thead>\n",
              "  <tbody>\n",
              "    <tr>\n",
              "      <th>0</th>\n",
              "      <td>RB50392</td>\n",
              "      <td>Washington</td>\n",
              "      <td>NaN</td>\n",
              "      <td>Master</td>\n",
              "      <td>NaN</td>\n",
              "      <td>0.0</td>\n",
              "      <td>1000.0</td>\n",
              "      <td>1/0/00</td>\n",
              "      <td>Personal Auto</td>\n",
              "      <td>Four-Door Car</td>\n",
              "      <td>2.704934</td>\n",
              "    </tr>\n",
              "    <tr>\n",
              "      <th>1</th>\n",
              "      <td>QZ44356</td>\n",
              "      <td>Arizona</td>\n",
              "      <td>F</td>\n",
              "      <td>Bachelor</td>\n",
              "      <td>697953.59%</td>\n",
              "      <td>0.0</td>\n",
              "      <td>94.0</td>\n",
              "      <td>1/0/00</td>\n",
              "      <td>Personal Auto</td>\n",
              "      <td>Four-Door Car</td>\n",
              "      <td>1131.464935</td>\n",
              "    </tr>\n",
              "    <tr>\n",
              "      <th>2</th>\n",
              "      <td>AI49188</td>\n",
              "      <td>Nevada</td>\n",
              "      <td>F</td>\n",
              "      <td>Bachelor</td>\n",
              "      <td>1288743.17%</td>\n",
              "      <td>48767.0</td>\n",
              "      <td>108.0</td>\n",
              "      <td>1/0/00</td>\n",
              "      <td>Personal Auto</td>\n",
              "      <td>Two-Door Car</td>\n",
              "      <td>566.472247</td>\n",
              "    </tr>\n",
              "    <tr>\n",
              "      <th>3</th>\n",
              "      <td>WW63253</td>\n",
              "      <td>California</td>\n",
              "      <td>M</td>\n",
              "      <td>Bachelor</td>\n",
              "      <td>764586.18%</td>\n",
              "      <td>0.0</td>\n",
              "      <td>106.0</td>\n",
              "      <td>1/0/00</td>\n",
              "      <td>Corporate Auto</td>\n",
              "      <td>SUV</td>\n",
              "      <td>529.881344</td>\n",
              "    </tr>\n",
              "    <tr>\n",
              "      <th>4</th>\n",
              "      <td>GA49547</td>\n",
              "      <td>Washington</td>\n",
              "      <td>M</td>\n",
              "      <td>High School or Below</td>\n",
              "      <td>536307.65%</td>\n",
              "      <td>36357.0</td>\n",
              "      <td>68.0</td>\n",
              "      <td>1/0/00</td>\n",
              "      <td>Personal Auto</td>\n",
              "      <td>Four-Door Car</td>\n",
              "      <td>17.269323</td>\n",
              "    </tr>\n",
              "  </tbody>\n",
              "</table>\n",
              "</div>"
            ],
            "text/plain": [
              "  Customer          ST  ...  Vehicle Class Total Claim Amount\n",
              "0  RB50392  Washington  ...  Four-Door Car           2.704934\n",
              "1  QZ44356     Arizona  ...  Four-Door Car        1131.464935\n",
              "2  AI49188      Nevada  ...   Two-Door Car         566.472247\n",
              "3  WW63253  California  ...            SUV         529.881344\n",
              "4  GA49547  Washington  ...  Four-Door Car          17.269323\n",
              "\n",
              "[5 rows x 11 columns]"
            ]
          },
          "metadata": {
            "tags": []
          },
          "execution_count": 171
        }
      ]
    },
    {
      "cell_type": "code",
      "metadata": {
        "colab": {
          "base_uri": "https://localhost:8080/",
          "height": 306
        },
        "id": "_DIvg3uB6atw",
        "outputId": "1c0ac00e-a49d-42d1-d24e-1f7fcada768b"
      },
      "source": [
        "#Assigning and reading the second file (file2.csv)\n",
        "url2 = 'https://raw.githubusercontent.com/ironhack-labs/lab-customer-analysis-round-1/master/files_for_lab/csv_files/file2.csv'\n",
        "data_file2 = pd.read_csv(url2)\n",
        "data_file2.head()"
      ],
      "execution_count": null,
      "outputs": [
        {
          "output_type": "execute_result",
          "data": {
            "text/html": [
              "<div>\n",
              "<style scoped>\n",
              "    .dataframe tbody tr th:only-of-type {\n",
              "        vertical-align: middle;\n",
              "    }\n",
              "\n",
              "    .dataframe tbody tr th {\n",
              "        vertical-align: top;\n",
              "    }\n",
              "\n",
              "    .dataframe thead th {\n",
              "        text-align: right;\n",
              "    }\n",
              "</style>\n",
              "<table border=\"1\" class=\"dataframe\">\n",
              "  <thead>\n",
              "    <tr style=\"text-align: right;\">\n",
              "      <th></th>\n",
              "      <th>Customer</th>\n",
              "      <th>ST</th>\n",
              "      <th>GENDER</th>\n",
              "      <th>Education</th>\n",
              "      <th>Customer Lifetime Value</th>\n",
              "      <th>Income</th>\n",
              "      <th>Monthly Premium Auto</th>\n",
              "      <th>Number of Open Complaints</th>\n",
              "      <th>Total Claim Amount</th>\n",
              "      <th>Policy Type</th>\n",
              "      <th>Vehicle Class</th>\n",
              "    </tr>\n",
              "  </thead>\n",
              "  <tbody>\n",
              "    <tr>\n",
              "      <th>0</th>\n",
              "      <td>GS98873</td>\n",
              "      <td>Arizona</td>\n",
              "      <td>F</td>\n",
              "      <td>Bachelor</td>\n",
              "      <td>323912.47%</td>\n",
              "      <td>16061</td>\n",
              "      <td>88</td>\n",
              "      <td>1/0/00</td>\n",
              "      <td>633.6</td>\n",
              "      <td>Personal Auto</td>\n",
              "      <td>Four-Door Car</td>\n",
              "    </tr>\n",
              "    <tr>\n",
              "      <th>1</th>\n",
              "      <td>CW49887</td>\n",
              "      <td>California</td>\n",
              "      <td>F</td>\n",
              "      <td>Master</td>\n",
              "      <td>462680.11%</td>\n",
              "      <td>79487</td>\n",
              "      <td>114</td>\n",
              "      <td>1/0/00</td>\n",
              "      <td>547.2</td>\n",
              "      <td>Special Auto</td>\n",
              "      <td>SUV</td>\n",
              "    </tr>\n",
              "    <tr>\n",
              "      <th>2</th>\n",
              "      <td>MY31220</td>\n",
              "      <td>California</td>\n",
              "      <td>F</td>\n",
              "      <td>College</td>\n",
              "      <td>899704.02%</td>\n",
              "      <td>54230</td>\n",
              "      <td>112</td>\n",
              "      <td>1/0/00</td>\n",
              "      <td>537.6</td>\n",
              "      <td>Personal Auto</td>\n",
              "      <td>Two-Door Car</td>\n",
              "    </tr>\n",
              "    <tr>\n",
              "      <th>3</th>\n",
              "      <td>UH35128</td>\n",
              "      <td>Oregon</td>\n",
              "      <td>F</td>\n",
              "      <td>College</td>\n",
              "      <td>2580706.30%</td>\n",
              "      <td>71210</td>\n",
              "      <td>214</td>\n",
              "      <td>1/1/00</td>\n",
              "      <td>1027.2</td>\n",
              "      <td>Personal Auto</td>\n",
              "      <td>Luxury Car</td>\n",
              "    </tr>\n",
              "    <tr>\n",
              "      <th>4</th>\n",
              "      <td>WH52799</td>\n",
              "      <td>Arizona</td>\n",
              "      <td>F</td>\n",
              "      <td>College</td>\n",
              "      <td>380812.21%</td>\n",
              "      <td>94903</td>\n",
              "      <td>94</td>\n",
              "      <td>1/0/00</td>\n",
              "      <td>451.2</td>\n",
              "      <td>Corporate Auto</td>\n",
              "      <td>Two-Door Car</td>\n",
              "    </tr>\n",
              "  </tbody>\n",
              "</table>\n",
              "</div>"
            ],
            "text/plain": [
              "  Customer          ST  ...     Policy Type  Vehicle Class\n",
              "0  GS98873     Arizona  ...   Personal Auto  Four-Door Car\n",
              "1  CW49887  California  ...    Special Auto            SUV\n",
              "2  MY31220  California  ...   Personal Auto   Two-Door Car\n",
              "3  UH35128      Oregon  ...   Personal Auto     Luxury Car\n",
              "4  WH52799     Arizona  ...  Corporate Auto   Two-Door Car\n",
              "\n",
              "[5 rows x 11 columns]"
            ]
          },
          "metadata": {
            "tags": []
          },
          "execution_count": 172
        }
      ]
    },
    {
      "cell_type": "code",
      "metadata": {
        "colab": {
          "base_uri": "https://localhost:8080/",
          "height": 297
        },
        "id": "ddnmZSl5HMrz",
        "outputId": "5aa43478-6729-4b9a-b710-0f8facd028ff"
      },
      "source": [
        "data_file1.describe()"
      ],
      "execution_count": null,
      "outputs": [
        {
          "output_type": "execute_result",
          "data": {
            "text/html": [
              "<div>\n",
              "<style scoped>\n",
              "    .dataframe tbody tr th:only-of-type {\n",
              "        vertical-align: middle;\n",
              "    }\n",
              "\n",
              "    .dataframe tbody tr th {\n",
              "        vertical-align: top;\n",
              "    }\n",
              "\n",
              "    .dataframe thead th {\n",
              "        text-align: right;\n",
              "    }\n",
              "</style>\n",
              "<table border=\"1\" class=\"dataframe\">\n",
              "  <thead>\n",
              "    <tr style=\"text-align: right;\">\n",
              "      <th></th>\n",
              "      <th>Income</th>\n",
              "      <th>Monthly Premium Auto</th>\n",
              "      <th>Total Claim Amount</th>\n",
              "    </tr>\n",
              "  </thead>\n",
              "  <tbody>\n",
              "    <tr>\n",
              "      <th>count</th>\n",
              "      <td>1071.000000</td>\n",
              "      <td>1071.000000</td>\n",
              "      <td>1071.000000</td>\n",
              "    </tr>\n",
              "    <tr>\n",
              "      <th>mean</th>\n",
              "      <td>39295.701214</td>\n",
              "      <td>193.234360</td>\n",
              "      <td>404.986909</td>\n",
              "    </tr>\n",
              "    <tr>\n",
              "      <th>std</th>\n",
              "      <td>30469.427060</td>\n",
              "      <td>1601.190369</td>\n",
              "      <td>293.027260</td>\n",
              "    </tr>\n",
              "    <tr>\n",
              "      <th>min</th>\n",
              "      <td>0.000000</td>\n",
              "      <td>61.000000</td>\n",
              "      <td>0.382107</td>\n",
              "    </tr>\n",
              "    <tr>\n",
              "      <th>25%</th>\n",
              "      <td>14072.000000</td>\n",
              "      <td>68.000000</td>\n",
              "      <td>202.157702</td>\n",
              "    </tr>\n",
              "    <tr>\n",
              "      <th>50%</th>\n",
              "      <td>36234.000000</td>\n",
              "      <td>83.000000</td>\n",
              "      <td>354.729129</td>\n",
              "    </tr>\n",
              "    <tr>\n",
              "      <th>75%</th>\n",
              "      <td>64631.000000</td>\n",
              "      <td>109.500000</td>\n",
              "      <td>532.800000</td>\n",
              "    </tr>\n",
              "    <tr>\n",
              "      <th>max</th>\n",
              "      <td>99960.000000</td>\n",
              "      <td>35354.000000</td>\n",
              "      <td>2893.239678</td>\n",
              "    </tr>\n",
              "  </tbody>\n",
              "</table>\n",
              "</div>"
            ],
            "text/plain": [
              "             Income  Monthly Premium Auto  Total Claim Amount\n",
              "count   1071.000000           1071.000000         1071.000000\n",
              "mean   39295.701214            193.234360          404.986909\n",
              "std    30469.427060           1601.190369          293.027260\n",
              "min        0.000000             61.000000            0.382107\n",
              "25%    14072.000000             68.000000          202.157702\n",
              "50%    36234.000000             83.000000          354.729129\n",
              "75%    64631.000000            109.500000          532.800000\n",
              "max    99960.000000          35354.000000         2893.239678"
            ]
          },
          "metadata": {
            "tags": []
          },
          "execution_count": 173
        }
      ]
    },
    {
      "cell_type": "code",
      "metadata": {
        "colab": {
          "base_uri": "https://localhost:8080/",
          "height": 323
        },
        "id": "yo86TvHb66JQ",
        "outputId": "acb416a6-d288-4af6-abd8-0ceb277df901"
      },
      "source": [
        "#Assigning and reading the third file (file3.csv)\n",
        "url3 = 'https://raw.githubusercontent.com/ironhack-labs/lab-customer-analysis-round-1/master/files_for_lab/csv_files/file3.csv'\n",
        "data_file3 = pd.read_csv(url3)\n",
        "data_file3.head()"
      ],
      "execution_count": null,
      "outputs": [
        {
          "output_type": "execute_result",
          "data": {
            "text/html": [
              "<div>\n",
              "<style scoped>\n",
              "    .dataframe tbody tr th:only-of-type {\n",
              "        vertical-align: middle;\n",
              "    }\n",
              "\n",
              "    .dataframe tbody tr th {\n",
              "        vertical-align: top;\n",
              "    }\n",
              "\n",
              "    .dataframe thead th {\n",
              "        text-align: right;\n",
              "    }\n",
              "</style>\n",
              "<table border=\"1\" class=\"dataframe\">\n",
              "  <thead>\n",
              "    <tr style=\"text-align: right;\">\n",
              "      <th></th>\n",
              "      <th>Customer</th>\n",
              "      <th>State</th>\n",
              "      <th>Customer Lifetime Value</th>\n",
              "      <th>Education</th>\n",
              "      <th>Gender</th>\n",
              "      <th>Income</th>\n",
              "      <th>Monthly Premium Auto</th>\n",
              "      <th>Number of Open Complaints</th>\n",
              "      <th>Policy Type</th>\n",
              "      <th>Total Claim Amount</th>\n",
              "      <th>Vehicle Class</th>\n",
              "    </tr>\n",
              "  </thead>\n",
              "  <tbody>\n",
              "    <tr>\n",
              "      <th>0</th>\n",
              "      <td>SA25987</td>\n",
              "      <td>Washington</td>\n",
              "      <td>3479.137523</td>\n",
              "      <td>High School or Below</td>\n",
              "      <td>M</td>\n",
              "      <td>0</td>\n",
              "      <td>104</td>\n",
              "      <td>0</td>\n",
              "      <td>Personal Auto</td>\n",
              "      <td>499.200000</td>\n",
              "      <td>Two-Door Car</td>\n",
              "    </tr>\n",
              "    <tr>\n",
              "      <th>1</th>\n",
              "      <td>TB86706</td>\n",
              "      <td>Arizona</td>\n",
              "      <td>2502.637401</td>\n",
              "      <td>Master</td>\n",
              "      <td>M</td>\n",
              "      <td>0</td>\n",
              "      <td>66</td>\n",
              "      <td>0</td>\n",
              "      <td>Personal Auto</td>\n",
              "      <td>3.468912</td>\n",
              "      <td>Two-Door Car</td>\n",
              "    </tr>\n",
              "    <tr>\n",
              "      <th>2</th>\n",
              "      <td>ZL73902</td>\n",
              "      <td>Nevada</td>\n",
              "      <td>3265.156348</td>\n",
              "      <td>Bachelor</td>\n",
              "      <td>F</td>\n",
              "      <td>25820</td>\n",
              "      <td>82</td>\n",
              "      <td>0</td>\n",
              "      <td>Personal Auto</td>\n",
              "      <td>393.600000</td>\n",
              "      <td>Four-Door Car</td>\n",
              "    </tr>\n",
              "    <tr>\n",
              "      <th>3</th>\n",
              "      <td>KX23516</td>\n",
              "      <td>California</td>\n",
              "      <td>4455.843406</td>\n",
              "      <td>High School or Below</td>\n",
              "      <td>F</td>\n",
              "      <td>0</td>\n",
              "      <td>121</td>\n",
              "      <td>0</td>\n",
              "      <td>Personal Auto</td>\n",
              "      <td>699.615192</td>\n",
              "      <td>SUV</td>\n",
              "    </tr>\n",
              "    <tr>\n",
              "      <th>4</th>\n",
              "      <td>FN77294</td>\n",
              "      <td>California</td>\n",
              "      <td>7704.958480</td>\n",
              "      <td>High School or Below</td>\n",
              "      <td>M</td>\n",
              "      <td>30366</td>\n",
              "      <td>101</td>\n",
              "      <td>2</td>\n",
              "      <td>Personal Auto</td>\n",
              "      <td>484.800000</td>\n",
              "      <td>SUV</td>\n",
              "    </tr>\n",
              "  </tbody>\n",
              "</table>\n",
              "</div>"
            ],
            "text/plain": [
              "  Customer       State  ...  Total Claim Amount  Vehicle Class\n",
              "0  SA25987  Washington  ...          499.200000   Two-Door Car\n",
              "1  TB86706     Arizona  ...            3.468912   Two-Door Car\n",
              "2  ZL73902      Nevada  ...          393.600000  Four-Door Car\n",
              "3  KX23516  California  ...          699.615192            SUV\n",
              "4  FN77294  California  ...          484.800000            SUV\n",
              "\n",
              "[5 rows x 11 columns]"
            ]
          },
          "metadata": {
            "tags": []
          },
          "execution_count": 174
        }
      ]
    },
    {
      "cell_type": "markdown",
      "metadata": {
        "id": "u07oOary7Xqe"
      },
      "source": [
        "**Task 2** Show the DataFrame's shape."
      ]
    },
    {
      "cell_type": "code",
      "metadata": {
        "colab": {
          "base_uri": "https://localhost:8080/"
        },
        "id": "VgX9GsIY7E65",
        "outputId": "23383442-abc7-4651-b7c4-d9f5bb0a1698"
      },
      "source": [
        "#data_file1 shape\n",
        "data_file1.shape"
      ],
      "execution_count": null,
      "outputs": [
        {
          "output_type": "execute_result",
          "data": {
            "text/plain": [
              "(4008, 11)"
            ]
          },
          "metadata": {
            "tags": []
          },
          "execution_count": 175
        }
      ]
    },
    {
      "cell_type": "code",
      "metadata": {
        "colab": {
          "base_uri": "https://localhost:8080/"
        },
        "id": "8y_U6sbF7m6v",
        "outputId": "cc6e5de2-9391-4ad9-f7a9-ad4387c40484"
      },
      "source": [
        "#data_file2 shape\n",
        "data_file2.shape"
      ],
      "execution_count": null,
      "outputs": [
        {
          "output_type": "execute_result",
          "data": {
            "text/plain": [
              "(996, 11)"
            ]
          },
          "metadata": {
            "tags": []
          },
          "execution_count": 176
        }
      ]
    },
    {
      "cell_type": "code",
      "metadata": {
        "colab": {
          "base_uri": "https://localhost:8080/"
        },
        "id": "U8QvW4-X7sae",
        "outputId": "db4c1d98-1894-4c88-bc58-9fef071e630e"
      },
      "source": [
        "#data_file2 shape\n",
        "data_file3.shape"
      ],
      "execution_count": null,
      "outputs": [
        {
          "output_type": "execute_result",
          "data": {
            "text/plain": [
              "(7070, 11)"
            ]
          },
          "metadata": {
            "tags": []
          },
          "execution_count": 177
        }
      ]
    },
    {
      "cell_type": "markdown",
      "metadata": {
        "id": "1cAsi37U7y1J"
      },
      "source": [
        "Finding: We see, number of columns are the same so we are good to proceed in terms of the number of columns, but the columns are not in order so we may need to rearrange them later."
      ]
    },
    {
      "cell_type": "markdown",
      "metadata": {
        "id": "y6z-xzPC8LyR"
      },
      "source": [
        "**Task 3** Standardize header names."
      ]
    },
    {
      "cell_type": "markdown",
      "metadata": {
        "id": "zqf1tZfV8tMD"
      },
      "source": [
        "Let's look at column headers first and see what is the easiest way to standardize them across three file dataframes."
      ]
    },
    {
      "cell_type": "code",
      "metadata": {
        "id": "-cMR1PIgAEc-"
      },
      "source": [
        "#assigning variables to column names for each dataframes.\n",
        "column_names1 = data_file1.columns\n",
        "column_names2 = data_file2.columns\n",
        "column_names3 = data_file3.columns"
      ],
      "execution_count": null,
      "outputs": []
    },
    {
      "cell_type": "code",
      "metadata": {
        "id": "ziFl9Vo7-5D6"
      },
      "source": [
        "#standardizing data_file1\n",
        "cols_1 = []\n",
        "#[column_names1.lower() for column_names1 in data_file1.columns]\n",
        "\n",
        "for column_names1 in data_file1.columns:\n",
        "  cols_1.append(column_names1.lower())\n",
        "\n",
        "data_file1.columns= cols_1\n"
      ],
      "execution_count": null,
      "outputs": []
    },
    {
      "cell_type": "code",
      "metadata": {
        "id": "HbP6oJHUBin-"
      },
      "source": [
        "#standardizing data_file2\n",
        "cols_2 = []\n",
        "#[column_names2.lower() for column_names2 in data_file2.columns]\n",
        "\n",
        "for column_names2 in data_file2.columns:\n",
        "  cols_2.append(column_names2.lower())\n",
        "\n",
        "data_file2.columns= cols_2"
      ],
      "execution_count": null,
      "outputs": []
    },
    {
      "cell_type": "code",
      "metadata": {
        "id": "-17PUGh3BrZQ"
      },
      "source": [
        "#standardizing data_file3\n",
        "cols_3 = []\n",
        "#[column_names2.lower() for column_names2 in data_file2.columns]\n",
        "\n",
        "for column_names3 in data_file3.columns:\n",
        "  cols_3.append(column_names3.lower())\n",
        "\n",
        "data_file3.columns= cols_3"
      ],
      "execution_count": null,
      "outputs": []
    },
    {
      "cell_type": "code",
      "metadata": {
        "colab": {
          "base_uri": "https://localhost:8080/"
        },
        "id": "a-qWyBRIB60N",
        "outputId": "d69e7459-4b23-4b65-edce-c9bdecf84bb0"
      },
      "source": [
        "#customer lifetime value - first two files have % in the end, but the third file doesnot have it. We need to correct those.\n",
        "data_file1['customer lifetime value'].dtype"
      ],
      "execution_count": null,
      "outputs": [
        {
          "output_type": "execute_result",
          "data": {
            "text/plain": [
              "dtype('O')"
            ]
          },
          "metadata": {
            "tags": []
          },
          "execution_count": 182
        }
      ]
    },
    {
      "cell_type": "code",
      "metadata": {
        "id": "Mp9lUZ4EeX_L"
      },
      "source": [
        "#noticed % sign on customer lifetime value in first two datafiles, so they need to be removed\n",
        "#defining a function to remove %\n",
        "def remove_perc_sign(x):\n",
        "  if type(x)==str:\n",
        "    return x.replace(\"%\",\" \")\n",
        "    #if x.endswith('%'):\n",
        "      #return x[:-1]\n",
        "    #else:\n",
        "      #return float(x)\n",
        "  else:\n",
        "    return float(x)"
      ],
      "execution_count": null,
      "outputs": []
    },
    {
      "cell_type": "code",
      "metadata": {
        "colab": {
          "base_uri": "https://localhost:8080/"
        },
        "id": "AMj1zRJ9fQbw",
        "outputId": "384d607a-17bf-415d-c241-44a800199f1e"
      },
      "source": [
        "data_file1['customer lifetime value'] = list(map(remove_perc_sign,data_file1['customer lifetime value']))\n",
        "data_file1['customer lifetime value'].head()"
      ],
      "execution_count": null,
      "outputs": [
        {
          "output_type": "execute_result",
          "data": {
            "text/plain": [
              "0            NaN\n",
              "1     697953.59 \n",
              "2    1288743.17 \n",
              "3     764586.18 \n",
              "4     536307.65 \n",
              "Name: customer lifetime value, dtype: object"
            ]
          },
          "metadata": {
            "tags": []
          },
          "execution_count": 184
        }
      ]
    },
    {
      "cell_type": "code",
      "metadata": {
        "colab": {
          "base_uri": "https://localhost:8080/"
        },
        "id": "aJ6mNlPhfRJU",
        "outputId": "875b54c5-9a78-4513-f5f8-4f3014baab28"
      },
      "source": [
        "data_file2['customer lifetime value'] = list(map(remove_perc_sign,data_file2['customer lifetime value']))\n",
        "data_file2['customer lifetime value'].head()"
      ],
      "execution_count": null,
      "outputs": [
        {
          "output_type": "execute_result",
          "data": {
            "text/plain": [
              "0     323912.47 \n",
              "1     462680.11 \n",
              "2     899704.02 \n",
              "3    2580706.30 \n",
              "4     380812.21 \n",
              "Name: customer lifetime value, dtype: object"
            ]
          },
          "metadata": {
            "tags": []
          },
          "execution_count": 185
        }
      ]
    },
    {
      "cell_type": "code",
      "metadata": {
        "id": "45dFCxF0eYRk"
      },
      "source": [
        "#after removing the % we need to convert customer lifetime values to float, defining a function for that\n",
        "def conv_float(x):\n",
        "  if type(x) == str:\n",
        "    return float(x)\n",
        "  else:\n",
        "    return x"
      ],
      "execution_count": null,
      "outputs": []
    },
    {
      "cell_type": "code",
      "metadata": {
        "colab": {
          "base_uri": "https://localhost:8080/"
        },
        "id": "OnGPH0KIeYfm",
        "outputId": "0a1a66e4-982a-4898-caf5-9f84dac54588"
      },
      "source": [
        "data_file2['customer lifetime value'] = list(map(conv_float,data_file2['customer lifetime value']))\n",
        "data_file2['customer lifetime value'].head()"
      ],
      "execution_count": null,
      "outputs": [
        {
          "output_type": "execute_result",
          "data": {
            "text/plain": [
              "0     323912.47\n",
              "1     462680.11\n",
              "2     899704.02\n",
              "3    2580706.30\n",
              "4     380812.21\n",
              "Name: customer lifetime value, dtype: float64"
            ]
          },
          "metadata": {
            "tags": []
          },
          "execution_count": 187
        }
      ]
    },
    {
      "cell_type": "code",
      "metadata": {
        "colab": {
          "base_uri": "https://localhost:8080/"
        },
        "id": "lm_YyyX7fSml",
        "outputId": "edae23a1-a712-46d4-c140-39b589323052"
      },
      "source": [
        "data_file1['customer lifetime value'] = list(map(conv_float,data_file1['customer lifetime value']))\n",
        "data_file1['customer lifetime value'].head()"
      ],
      "execution_count": null,
      "outputs": [
        {
          "output_type": "execute_result",
          "data": {
            "text/plain": [
              "0           NaN\n",
              "1     697953.59\n",
              "2    1288743.17\n",
              "3     764586.18\n",
              "4     536307.65\n",
              "Name: customer lifetime value, dtype: float64"
            ]
          },
          "metadata": {
            "tags": []
          },
          "execution_count": 188
        }
      ]
    },
    {
      "cell_type": "markdown",
      "metadata": {
        "id": "c_yC39uiBf-c"
      },
      "source": [
        "**Task 4** Rearrange the columns in the dataframe as needed"
      ]
    },
    {
      "cell_type": "code",
      "metadata": {
        "colab": {
          "base_uri": "https://localhost:8080/"
        },
        "id": "0nYlPHJW7v30",
        "outputId": "e117d9b8-66dc-4198-9829-132029a83cb4"
      },
      "source": [
        "#list of column headers data_file1\n",
        "\n",
        "data_file1.columns.tolist()"
      ],
      "execution_count": null,
      "outputs": [
        {
          "output_type": "execute_result",
          "data": {
            "text/plain": [
              "['customer',\n",
              " 'st',\n",
              " 'gender',\n",
              " 'education',\n",
              " 'customer lifetime value',\n",
              " 'income',\n",
              " 'monthly premium auto',\n",
              " 'number of open complaints',\n",
              " 'policy type',\n",
              " 'vehicle class',\n",
              " 'total claim amount']"
            ]
          },
          "metadata": {
            "tags": []
          },
          "execution_count": 189
        }
      ]
    },
    {
      "cell_type": "code",
      "metadata": {
        "colab": {
          "base_uri": "https://localhost:8080/"
        },
        "id": "FlcoTgbc87_r",
        "outputId": "6c25f83c-e3a2-4992-f549-4e9bcc139d1c"
      },
      "source": [
        "#list of column headers data_file2\n",
        "\n",
        "data_file2.columns.tolist()"
      ],
      "execution_count": null,
      "outputs": [
        {
          "output_type": "execute_result",
          "data": {
            "text/plain": [
              "['customer',\n",
              " 'st',\n",
              " 'gender',\n",
              " 'education',\n",
              " 'customer lifetime value',\n",
              " 'income',\n",
              " 'monthly premium auto',\n",
              " 'number of open complaints',\n",
              " 'total claim amount',\n",
              " 'policy type',\n",
              " 'vehicle class']"
            ]
          },
          "metadata": {
            "tags": []
          },
          "execution_count": 190
        }
      ]
    },
    {
      "cell_type": "code",
      "metadata": {
        "colab": {
          "base_uri": "https://localhost:8080/"
        },
        "id": "AMN6qc6G8_S2",
        "outputId": "4b566176-7ec7-4ab5-deaf-de65f15abd08"
      },
      "source": [
        "#in data_file2 has column header 'Total Claim Amount' in the wrong column index. It will be easier to move it to the last position.\n",
        "data_file2 = data_file2.reindex(columns=['customer',\n",
        " 'st',\n",
        " 'gender',\n",
        " 'education',\n",
        " 'customer lifetime value',\n",
        " 'income',\n",
        " 'monthly premium auto',\n",
        " 'number of open complaints',\n",
        " 'policy type',\n",
        " 'vehicle class',\n",
        " 'total claim amount'])\n",
        "data_file2.columns.tolist()"
      ],
      "execution_count": null,
      "outputs": [
        {
          "output_type": "execute_result",
          "data": {
            "text/plain": [
              "['customer',\n",
              " 'st',\n",
              " 'gender',\n",
              " 'education',\n",
              " 'customer lifetime value',\n",
              " 'income',\n",
              " 'monthly premium auto',\n",
              " 'number of open complaints',\n",
              " 'policy type',\n",
              " 'vehicle class',\n",
              " 'total claim amount']"
            ]
          },
          "metadata": {
            "tags": []
          },
          "execution_count": 191
        }
      ]
    },
    {
      "cell_type": "code",
      "metadata": {
        "colab": {
          "base_uri": "https://localhost:8080/"
        },
        "id": "_abKorCF9Zkv",
        "outputId": "00244667-70e2-496d-f506-35d622fcb9cc"
      },
      "source": [
        "#.list of column headers data_file3\n",
        "data_file3.columns.tolist()"
      ],
      "execution_count": null,
      "outputs": [
        {
          "output_type": "execute_result",
          "data": {
            "text/plain": [
              "['customer',\n",
              " 'state',\n",
              " 'customer lifetime value',\n",
              " 'education',\n",
              " 'gender',\n",
              " 'income',\n",
              " 'monthly premium auto',\n",
              " 'number of open complaints',\n",
              " 'policy type',\n",
              " 'total claim amount',\n",
              " 'vehicle class']"
            ]
          },
          "metadata": {
            "tags": []
          },
          "execution_count": 192
        }
      ]
    },
    {
      "cell_type": "code",
      "metadata": {
        "colab": {
          "base_uri": "https://localhost:8080/"
        },
        "id": "koci-Hbp9qEt",
        "outputId": "924f18a8-33b6-4ebe-9b4d-b60ca05a7286"
      },
      "source": [
        "#in data_file3 reindexing the headers to the same column headers as in data_file1\n",
        "data_file3 = data_file3.reindex(columns=['customer',\n",
        " 'st',\n",
        " 'gender',\n",
        " 'education',\n",
        " 'customer lifetime value',\n",
        " 'income',\n",
        " 'monthly premium auto',\n",
        " 'number of open complaints',\n",
        " 'policy type',\n",
        " 'vehicle class',\n",
        " 'total claim amount'])\n",
        "data_file3.columns.tolist()"
      ],
      "execution_count": null,
      "outputs": [
        {
          "output_type": "execute_result",
          "data": {
            "text/plain": [
              "['customer',\n",
              " 'st',\n",
              " 'gender',\n",
              " 'education',\n",
              " 'customer lifetime value',\n",
              " 'income',\n",
              " 'monthly premium auto',\n",
              " 'number of open complaints',\n",
              " 'policy type',\n",
              " 'vehicle class',\n",
              " 'total claim amount']"
            ]
          },
          "metadata": {
            "tags": []
          },
          "execution_count": 193
        }
      ]
    },
    {
      "cell_type": "markdown",
      "metadata": {
        "id": "lQu8j0nxCkYt"
      },
      "source": [
        "Task 5 Concatenate the three dataframes"
      ]
    },
    {
      "cell_type": "code",
      "metadata": {
        "id": "-o5jz67b-nLd"
      },
      "source": [
        "data = pd.concat([data_file1,data_file2,data_file3],axis =0)"
      ],
      "execution_count": null,
      "outputs": []
    },
    {
      "cell_type": "code",
      "metadata": {
        "colab": {
          "base_uri": "https://localhost:8080/"
        },
        "id": "JzVi0Zg7C3_k",
        "outputId": "03491403-057b-473e-c568-193df75638fb"
      },
      "source": [
        "data.shape"
      ],
      "execution_count": null,
      "outputs": [
        {
          "output_type": "execute_result",
          "data": {
            "text/plain": [
              "(12074, 11)"
            ]
          },
          "metadata": {
            "tags": []
          },
          "execution_count": 195
        }
      ]
    },
    {
      "cell_type": "code",
      "metadata": {
        "colab": {
          "base_uri": "https://localhost:8080/",
          "height": 323
        },
        "id": "xeDnX2TNC5wu",
        "outputId": "8dac42e8-f6d8-4a65-b69e-8fc6f0985766"
      },
      "source": [
        "data.head()"
      ],
      "execution_count": null,
      "outputs": [
        {
          "output_type": "execute_result",
          "data": {
            "text/html": [
              "<div>\n",
              "<style scoped>\n",
              "    .dataframe tbody tr th:only-of-type {\n",
              "        vertical-align: middle;\n",
              "    }\n",
              "\n",
              "    .dataframe tbody tr th {\n",
              "        vertical-align: top;\n",
              "    }\n",
              "\n",
              "    .dataframe thead th {\n",
              "        text-align: right;\n",
              "    }\n",
              "</style>\n",
              "<table border=\"1\" class=\"dataframe\">\n",
              "  <thead>\n",
              "    <tr style=\"text-align: right;\">\n",
              "      <th></th>\n",
              "      <th>customer</th>\n",
              "      <th>st</th>\n",
              "      <th>gender</th>\n",
              "      <th>education</th>\n",
              "      <th>customer lifetime value</th>\n",
              "      <th>income</th>\n",
              "      <th>monthly premium auto</th>\n",
              "      <th>number of open complaints</th>\n",
              "      <th>policy type</th>\n",
              "      <th>vehicle class</th>\n",
              "      <th>total claim amount</th>\n",
              "    </tr>\n",
              "  </thead>\n",
              "  <tbody>\n",
              "    <tr>\n",
              "      <th>0</th>\n",
              "      <td>RB50392</td>\n",
              "      <td>Washington</td>\n",
              "      <td>NaN</td>\n",
              "      <td>Master</td>\n",
              "      <td>NaN</td>\n",
              "      <td>0.0</td>\n",
              "      <td>1000.0</td>\n",
              "      <td>1/0/00</td>\n",
              "      <td>Personal Auto</td>\n",
              "      <td>Four-Door Car</td>\n",
              "      <td>2.704934</td>\n",
              "    </tr>\n",
              "    <tr>\n",
              "      <th>1</th>\n",
              "      <td>QZ44356</td>\n",
              "      <td>Arizona</td>\n",
              "      <td>F</td>\n",
              "      <td>Bachelor</td>\n",
              "      <td>697953.59</td>\n",
              "      <td>0.0</td>\n",
              "      <td>94.0</td>\n",
              "      <td>1/0/00</td>\n",
              "      <td>Personal Auto</td>\n",
              "      <td>Four-Door Car</td>\n",
              "      <td>1131.464935</td>\n",
              "    </tr>\n",
              "    <tr>\n",
              "      <th>2</th>\n",
              "      <td>AI49188</td>\n",
              "      <td>Nevada</td>\n",
              "      <td>F</td>\n",
              "      <td>Bachelor</td>\n",
              "      <td>1288743.17</td>\n",
              "      <td>48767.0</td>\n",
              "      <td>108.0</td>\n",
              "      <td>1/0/00</td>\n",
              "      <td>Personal Auto</td>\n",
              "      <td>Two-Door Car</td>\n",
              "      <td>566.472247</td>\n",
              "    </tr>\n",
              "    <tr>\n",
              "      <th>3</th>\n",
              "      <td>WW63253</td>\n",
              "      <td>California</td>\n",
              "      <td>M</td>\n",
              "      <td>Bachelor</td>\n",
              "      <td>764586.18</td>\n",
              "      <td>0.0</td>\n",
              "      <td>106.0</td>\n",
              "      <td>1/0/00</td>\n",
              "      <td>Corporate Auto</td>\n",
              "      <td>SUV</td>\n",
              "      <td>529.881344</td>\n",
              "    </tr>\n",
              "    <tr>\n",
              "      <th>4</th>\n",
              "      <td>GA49547</td>\n",
              "      <td>Washington</td>\n",
              "      <td>M</td>\n",
              "      <td>High School or Below</td>\n",
              "      <td>536307.65</td>\n",
              "      <td>36357.0</td>\n",
              "      <td>68.0</td>\n",
              "      <td>1/0/00</td>\n",
              "      <td>Personal Auto</td>\n",
              "      <td>Four-Door Car</td>\n",
              "      <td>17.269323</td>\n",
              "    </tr>\n",
              "  </tbody>\n",
              "</table>\n",
              "</div>"
            ],
            "text/plain": [
              "  customer          st  ...  vehicle class total claim amount\n",
              "0  RB50392  Washington  ...  Four-Door Car           2.704934\n",
              "1  QZ44356     Arizona  ...  Four-Door Car        1131.464935\n",
              "2  AI49188      Nevada  ...   Two-Door Car         566.472247\n",
              "3  WW63253  California  ...            SUV         529.881344\n",
              "4  GA49547  Washington  ...  Four-Door Car          17.269323\n",
              "\n",
              "[5 rows x 11 columns]"
            ]
          },
          "metadata": {
            "tags": []
          },
          "execution_count": 196
        }
      ]
    },
    {
      "cell_type": "code",
      "metadata": {
        "colab": {
          "base_uri": "https://localhost:8080/",
          "height": 131
        },
        "id": "qzXYJQi4GJNy",
        "outputId": "74d49762-69c3-4d96-ec2d-a52e8612c653"
      },
      "source": [
        "data.sample()"
      ],
      "execution_count": null,
      "outputs": [
        {
          "output_type": "execute_result",
          "data": {
            "text/html": [
              "<div>\n",
              "<style scoped>\n",
              "    .dataframe tbody tr th:only-of-type {\n",
              "        vertical-align: middle;\n",
              "    }\n",
              "\n",
              "    .dataframe tbody tr th {\n",
              "        vertical-align: top;\n",
              "    }\n",
              "\n",
              "    .dataframe thead th {\n",
              "        text-align: right;\n",
              "    }\n",
              "</style>\n",
              "<table border=\"1\" class=\"dataframe\">\n",
              "  <thead>\n",
              "    <tr style=\"text-align: right;\">\n",
              "      <th></th>\n",
              "      <th>customer</th>\n",
              "      <th>st</th>\n",
              "      <th>gender</th>\n",
              "      <th>education</th>\n",
              "      <th>customer lifetime value</th>\n",
              "      <th>income</th>\n",
              "      <th>monthly premium auto</th>\n",
              "      <th>number of open complaints</th>\n",
              "      <th>policy type</th>\n",
              "      <th>vehicle class</th>\n",
              "      <th>total claim amount</th>\n",
              "    </tr>\n",
              "  </thead>\n",
              "  <tbody>\n",
              "    <tr>\n",
              "      <th>3571</th>\n",
              "      <td>LC69427</td>\n",
              "      <td>NaN</td>\n",
              "      <td>F</td>\n",
              "      <td>College</td>\n",
              "      <td>2827.328603</td>\n",
              "      <td>20368.0</td>\n",
              "      <td>72.0</td>\n",
              "      <td>0</td>\n",
              "      <td>Corporate Auto</td>\n",
              "      <td>Four-Door Car</td>\n",
              "      <td>345.6</td>\n",
              "    </tr>\n",
              "  </tbody>\n",
              "</table>\n",
              "</div>"
            ],
            "text/plain": [
              "     customer   st gender  ...     policy type  vehicle class  total claim amount\n",
              "3571  LC69427  NaN      F  ...  Corporate Auto  Four-Door Car               345.6\n",
              "\n",
              "[1 rows x 11 columns]"
            ]
          },
          "metadata": {
            "tags": []
          },
          "execution_count": 197
        }
      ]
    },
    {
      "cell_type": "markdown",
      "metadata": {
        "id": "TEBIv4-7FM81"
      },
      "source": [
        "Findings:\n",
        "1. Noticed customer column is actually storing car plates. I will keep it as it is for now, as it may not matter in this analysis to change it. \n",
        "2. gender has null values\n",
        "3. CLV needs to be corrected."
      ]
    },
    {
      "cell_type": "markdown",
      "metadata": {
        "id": "0SYx-05EFb41"
      },
      "source": [
        "**Task 6/7** : Which columns are numerical? Which columns are categorical?\n",
        "\n",
        "**by looking at the data**\n",
        "\n",
        "1. customer                      - categorical\n",
        "2. st                            - categorical\n",
        "3. gender                        - categorical\n",
        "4. education                     - categorical\n",
        "5. customer lifetime value       - numerical\n",
        "6. income                        - numerical\n",
        "7. monthly premium auto          - numerical\n",
        "8. number of open complaints     - numerical/categorical\n",
        "9. policy type                   - categorical\n",
        "10. vehicle class                - categorical\n",
        "11. total claim amount           - numerical\n",
        "\n",
        "\n"
      ]
    },
    {
      "cell_type": "code",
      "metadata": {
        "colab": {
          "base_uri": "https://localhost:8080/"
        },
        "id": "kBEopS7bDJyE",
        "outputId": "4bf46994-5f4c-4c94-e168-b7944641d154"
      },
      "source": [
        "#check if data types match the above deductions\n",
        "data.dtypes"
      ],
      "execution_count": null,
      "outputs": [
        {
          "output_type": "execute_result",
          "data": {
            "text/plain": [
              "customer                      object\n",
              "st                            object\n",
              "gender                        object\n",
              "education                     object\n",
              "customer lifetime value      float64\n",
              "income                       float64\n",
              "monthly premium auto         float64\n",
              "number of open complaints     object\n",
              "policy type                   object\n",
              "vehicle class                 object\n",
              "total claim amount           float64\n",
              "dtype: object"
            ]
          },
          "metadata": {
            "tags": []
          },
          "execution_count": 198
        }
      ]
    },
    {
      "cell_type": "code",
      "metadata": {
        "colab": {
          "base_uri": "https://localhost:8080/",
          "height": 419
        },
        "id": "9wDyq7XHjncj",
        "outputId": "94125625-8308-471d-df7b-7edf369a9bd0"
      },
      "source": [
        "#check if numeric data types match the above deductions\n",
        "data._get_numeric_data()"
      ],
      "execution_count": null,
      "outputs": [
        {
          "output_type": "execute_result",
          "data": {
            "text/html": [
              "<div>\n",
              "<style scoped>\n",
              "    .dataframe tbody tr th:only-of-type {\n",
              "        vertical-align: middle;\n",
              "    }\n",
              "\n",
              "    .dataframe tbody tr th {\n",
              "        vertical-align: top;\n",
              "    }\n",
              "\n",
              "    .dataframe thead th {\n",
              "        text-align: right;\n",
              "    }\n",
              "</style>\n",
              "<table border=\"1\" class=\"dataframe\">\n",
              "  <thead>\n",
              "    <tr style=\"text-align: right;\">\n",
              "      <th></th>\n",
              "      <th>customer lifetime value</th>\n",
              "      <th>income</th>\n",
              "      <th>monthly premium auto</th>\n",
              "      <th>total claim amount</th>\n",
              "    </tr>\n",
              "  </thead>\n",
              "  <tbody>\n",
              "    <tr>\n",
              "      <th>0</th>\n",
              "      <td>NaN</td>\n",
              "      <td>0.0</td>\n",
              "      <td>1000.0</td>\n",
              "      <td>2.704934</td>\n",
              "    </tr>\n",
              "    <tr>\n",
              "      <th>1</th>\n",
              "      <td>6.979536e+05</td>\n",
              "      <td>0.0</td>\n",
              "      <td>94.0</td>\n",
              "      <td>1131.464935</td>\n",
              "    </tr>\n",
              "    <tr>\n",
              "      <th>2</th>\n",
              "      <td>1.288743e+06</td>\n",
              "      <td>48767.0</td>\n",
              "      <td>108.0</td>\n",
              "      <td>566.472247</td>\n",
              "    </tr>\n",
              "    <tr>\n",
              "      <th>3</th>\n",
              "      <td>7.645862e+05</td>\n",
              "      <td>0.0</td>\n",
              "      <td>106.0</td>\n",
              "      <td>529.881344</td>\n",
              "    </tr>\n",
              "    <tr>\n",
              "      <th>4</th>\n",
              "      <td>5.363077e+05</td>\n",
              "      <td>36357.0</td>\n",
              "      <td>68.0</td>\n",
              "      <td>17.269323</td>\n",
              "    </tr>\n",
              "    <tr>\n",
              "      <th>...</th>\n",
              "      <td>...</td>\n",
              "      <td>...</td>\n",
              "      <td>...</td>\n",
              "      <td>...</td>\n",
              "    </tr>\n",
              "    <tr>\n",
              "      <th>7065</th>\n",
              "      <td>2.340599e+04</td>\n",
              "      <td>71941.0</td>\n",
              "      <td>73.0</td>\n",
              "      <td>198.234764</td>\n",
              "    </tr>\n",
              "    <tr>\n",
              "      <th>7066</th>\n",
              "      <td>3.096511e+03</td>\n",
              "      <td>21604.0</td>\n",
              "      <td>79.0</td>\n",
              "      <td>379.200000</td>\n",
              "    </tr>\n",
              "    <tr>\n",
              "      <th>7067</th>\n",
              "      <td>8.163890e+03</td>\n",
              "      <td>0.0</td>\n",
              "      <td>85.0</td>\n",
              "      <td>790.784983</td>\n",
              "    </tr>\n",
              "    <tr>\n",
              "      <th>7068</th>\n",
              "      <td>7.524442e+03</td>\n",
              "      <td>21941.0</td>\n",
              "      <td>96.0</td>\n",
              "      <td>691.200000</td>\n",
              "    </tr>\n",
              "    <tr>\n",
              "      <th>7069</th>\n",
              "      <td>2.611837e+03</td>\n",
              "      <td>0.0</td>\n",
              "      <td>77.0</td>\n",
              "      <td>369.600000</td>\n",
              "    </tr>\n",
              "  </tbody>\n",
              "</table>\n",
              "<p>12074 rows × 4 columns</p>\n",
              "</div>"
            ],
            "text/plain": [
              "      customer lifetime value  ...  total claim amount\n",
              "0                         NaN  ...            2.704934\n",
              "1                6.979536e+05  ...         1131.464935\n",
              "2                1.288743e+06  ...          566.472247\n",
              "3                7.645862e+05  ...          529.881344\n",
              "4                5.363077e+05  ...           17.269323\n",
              "...                       ...  ...                 ...\n",
              "7065             2.340599e+04  ...          198.234764\n",
              "7066             3.096511e+03  ...          379.200000\n",
              "7067             8.163890e+03  ...          790.784983\n",
              "7068             7.524442e+03  ...          691.200000\n",
              "7069             2.611837e+03  ...          369.600000\n",
              "\n",
              "[12074 rows x 4 columns]"
            ]
          },
          "metadata": {
            "tags": []
          },
          "execution_count": 199
        }
      ]
    },
    {
      "cell_type": "code",
      "metadata": {
        "colab": {
          "base_uri": "https://localhost:8080/",
          "height": 419
        },
        "id": "uvVkiZA-j035",
        "outputId": "76bc342f-6425-44ae-a477-eb504a6512b3"
      },
      "source": [
        "#check if object data types match the above deductions\n",
        "data.select_dtypes('object')"
      ],
      "execution_count": null,
      "outputs": [
        {
          "output_type": "execute_result",
          "data": {
            "text/html": [
              "<div>\n",
              "<style scoped>\n",
              "    .dataframe tbody tr th:only-of-type {\n",
              "        vertical-align: middle;\n",
              "    }\n",
              "\n",
              "    .dataframe tbody tr th {\n",
              "        vertical-align: top;\n",
              "    }\n",
              "\n",
              "    .dataframe thead th {\n",
              "        text-align: right;\n",
              "    }\n",
              "</style>\n",
              "<table border=\"1\" class=\"dataframe\">\n",
              "  <thead>\n",
              "    <tr style=\"text-align: right;\">\n",
              "      <th></th>\n",
              "      <th>customer</th>\n",
              "      <th>st</th>\n",
              "      <th>gender</th>\n",
              "      <th>education</th>\n",
              "      <th>number of open complaints</th>\n",
              "      <th>policy type</th>\n",
              "      <th>vehicle class</th>\n",
              "    </tr>\n",
              "  </thead>\n",
              "  <tbody>\n",
              "    <tr>\n",
              "      <th>0</th>\n",
              "      <td>RB50392</td>\n",
              "      <td>Washington</td>\n",
              "      <td>NaN</td>\n",
              "      <td>Master</td>\n",
              "      <td>1/0/00</td>\n",
              "      <td>Personal Auto</td>\n",
              "      <td>Four-Door Car</td>\n",
              "    </tr>\n",
              "    <tr>\n",
              "      <th>1</th>\n",
              "      <td>QZ44356</td>\n",
              "      <td>Arizona</td>\n",
              "      <td>F</td>\n",
              "      <td>Bachelor</td>\n",
              "      <td>1/0/00</td>\n",
              "      <td>Personal Auto</td>\n",
              "      <td>Four-Door Car</td>\n",
              "    </tr>\n",
              "    <tr>\n",
              "      <th>2</th>\n",
              "      <td>AI49188</td>\n",
              "      <td>Nevada</td>\n",
              "      <td>F</td>\n",
              "      <td>Bachelor</td>\n",
              "      <td>1/0/00</td>\n",
              "      <td>Personal Auto</td>\n",
              "      <td>Two-Door Car</td>\n",
              "    </tr>\n",
              "    <tr>\n",
              "      <th>3</th>\n",
              "      <td>WW63253</td>\n",
              "      <td>California</td>\n",
              "      <td>M</td>\n",
              "      <td>Bachelor</td>\n",
              "      <td>1/0/00</td>\n",
              "      <td>Corporate Auto</td>\n",
              "      <td>SUV</td>\n",
              "    </tr>\n",
              "    <tr>\n",
              "      <th>4</th>\n",
              "      <td>GA49547</td>\n",
              "      <td>Washington</td>\n",
              "      <td>M</td>\n",
              "      <td>High School or Below</td>\n",
              "      <td>1/0/00</td>\n",
              "      <td>Personal Auto</td>\n",
              "      <td>Four-Door Car</td>\n",
              "    </tr>\n",
              "    <tr>\n",
              "      <th>...</th>\n",
              "      <td>...</td>\n",
              "      <td>...</td>\n",
              "      <td>...</td>\n",
              "      <td>...</td>\n",
              "      <td>...</td>\n",
              "      <td>...</td>\n",
              "      <td>...</td>\n",
              "    </tr>\n",
              "    <tr>\n",
              "      <th>7065</th>\n",
              "      <td>LA72316</td>\n",
              "      <td>NaN</td>\n",
              "      <td>M</td>\n",
              "      <td>Bachelor</td>\n",
              "      <td>0</td>\n",
              "      <td>Personal Auto</td>\n",
              "      <td>Four-Door Car</td>\n",
              "    </tr>\n",
              "    <tr>\n",
              "      <th>7066</th>\n",
              "      <td>PK87824</td>\n",
              "      <td>NaN</td>\n",
              "      <td>F</td>\n",
              "      <td>College</td>\n",
              "      <td>0</td>\n",
              "      <td>Corporate Auto</td>\n",
              "      <td>Four-Door Car</td>\n",
              "    </tr>\n",
              "    <tr>\n",
              "      <th>7067</th>\n",
              "      <td>TD14365</td>\n",
              "      <td>NaN</td>\n",
              "      <td>M</td>\n",
              "      <td>Bachelor</td>\n",
              "      <td>3</td>\n",
              "      <td>Corporate Auto</td>\n",
              "      <td>Four-Door Car</td>\n",
              "    </tr>\n",
              "    <tr>\n",
              "      <th>7068</th>\n",
              "      <td>UP19263</td>\n",
              "      <td>NaN</td>\n",
              "      <td>M</td>\n",
              "      <td>College</td>\n",
              "      <td>0</td>\n",
              "      <td>Personal Auto</td>\n",
              "      <td>Four-Door Car</td>\n",
              "    </tr>\n",
              "    <tr>\n",
              "      <th>7069</th>\n",
              "      <td>Y167826</td>\n",
              "      <td>NaN</td>\n",
              "      <td>M</td>\n",
              "      <td>College</td>\n",
              "      <td>0</td>\n",
              "      <td>Corporate Auto</td>\n",
              "      <td>Two-Door Car</td>\n",
              "    </tr>\n",
              "  </tbody>\n",
              "</table>\n",
              "<p>12074 rows × 7 columns</p>\n",
              "</div>"
            ],
            "text/plain": [
              "     customer          st  ...     policy type  vehicle class\n",
              "0     RB50392  Washington  ...   Personal Auto  Four-Door Car\n",
              "1     QZ44356     Arizona  ...   Personal Auto  Four-Door Car\n",
              "2     AI49188      Nevada  ...   Personal Auto   Two-Door Car\n",
              "3     WW63253  California  ...  Corporate Auto            SUV\n",
              "4     GA49547  Washington  ...   Personal Auto  Four-Door Car\n",
              "...       ...         ...  ...             ...            ...\n",
              "7065  LA72316         NaN  ...   Personal Auto  Four-Door Car\n",
              "7066  PK87824         NaN  ...  Corporate Auto  Four-Door Car\n",
              "7067  TD14365         NaN  ...  Corporate Auto  Four-Door Car\n",
              "7068  UP19263         NaN  ...   Personal Auto  Four-Door Car\n",
              "7069  Y167826         NaN  ...  Corporate Auto   Two-Door Car\n",
              "\n",
              "[12074 rows x 7 columns]"
            ]
          },
          "metadata": {
            "tags": []
          },
          "execution_count": 200
        }
      ]
    },
    {
      "cell_type": "markdown",
      "metadata": {
        "id": "HMn_A36oOuqJ"
      },
      "source": [
        "**Task 8**: Understand the meaning of all columns\n",
        "\n",
        "**by looking at data above- deductions**\n",
        "1. customer - this column identifies individual customer (through car plate numbers in this dataset). Datatype: String\n",
        "2. st - this column idetifies where the customer has the policy registered. Data type: string                        \n",
        "3. gender - this column identifies the gender of the customer. datatype: string \n",
        "4. education- this column probably stores the highest level of education of the customer. \n",
        "5. customer lifetime value - this column is the total amount of money customer is expected to spend in this company. \n",
        "6. income - this column stores the real/reported/predicted income level of the customer.                      \n",
        "7. monthly premium auto - this is the amount of monthly premiums on their policy.          - \n",
        "8. number of open complaints - this column stores the number of open complaints stored from the customer. It is stored in #1/#2/# format so probably it is storing it in categorical way like departments or identifiers.\n",
        "9. policy type - this column stores the type of policy chosen by the customer, so it can be the policy options offered by this company.\n",
        "10. vehicle class - this column is storing the type of vehicle (probably the policy types are dependant on this)\n",
        "11. total claim amount- this column is storing the total amount claimed by the customer. this needs to be checked and probably paid out/rejected dependant on the claim.\n"
      ]
    },
    {
      "cell_type": "markdown",
      "metadata": {
        "id": "_4OVvjqnTXuq"
      },
      "source": [
        "**Task 9**: Perform the data cleaning operations mentioned so far in class"
      ]
    },
    {
      "cell_type": "code",
      "metadata": {
        "colab": {
          "base_uri": "https://localhost:8080/",
          "height": 306
        },
        "id": "EgqmZP3CDicx",
        "outputId": "b8f7986b-2790-448b-8b27-afe22ba10ac4"
      },
      "source": [
        "#drop the columns education and number of open complaints.\n",
        "data = data.drop(['education'],axis=1)\n",
        "data = data.drop(['number of open complaints'],axis = 1)\n",
        "data.head(5)\n",
        "\n",
        "#ran data = above commands, which removed 'education' and 'number of opens' and now it cannot find it, so it gives the KeyError"
      ],
      "execution_count": null,
      "outputs": [
        {
          "output_type": "execute_result",
          "data": {
            "text/html": [
              "<div>\n",
              "<style scoped>\n",
              "    .dataframe tbody tr th:only-of-type {\n",
              "        vertical-align: middle;\n",
              "    }\n",
              "\n",
              "    .dataframe tbody tr th {\n",
              "        vertical-align: top;\n",
              "    }\n",
              "\n",
              "    .dataframe thead th {\n",
              "        text-align: right;\n",
              "    }\n",
              "</style>\n",
              "<table border=\"1\" class=\"dataframe\">\n",
              "  <thead>\n",
              "    <tr style=\"text-align: right;\">\n",
              "      <th></th>\n",
              "      <th>customer</th>\n",
              "      <th>st</th>\n",
              "      <th>gender</th>\n",
              "      <th>customer lifetime value</th>\n",
              "      <th>income</th>\n",
              "      <th>monthly premium auto</th>\n",
              "      <th>policy type</th>\n",
              "      <th>vehicle class</th>\n",
              "      <th>total claim amount</th>\n",
              "    </tr>\n",
              "  </thead>\n",
              "  <tbody>\n",
              "    <tr>\n",
              "      <th>0</th>\n",
              "      <td>RB50392</td>\n",
              "      <td>Washington</td>\n",
              "      <td>NaN</td>\n",
              "      <td>NaN</td>\n",
              "      <td>0.0</td>\n",
              "      <td>1000.0</td>\n",
              "      <td>Personal Auto</td>\n",
              "      <td>Four-Door Car</td>\n",
              "      <td>2.704934</td>\n",
              "    </tr>\n",
              "    <tr>\n",
              "      <th>1</th>\n",
              "      <td>QZ44356</td>\n",
              "      <td>Arizona</td>\n",
              "      <td>F</td>\n",
              "      <td>697953.59</td>\n",
              "      <td>0.0</td>\n",
              "      <td>94.0</td>\n",
              "      <td>Personal Auto</td>\n",
              "      <td>Four-Door Car</td>\n",
              "      <td>1131.464935</td>\n",
              "    </tr>\n",
              "    <tr>\n",
              "      <th>2</th>\n",
              "      <td>AI49188</td>\n",
              "      <td>Nevada</td>\n",
              "      <td>F</td>\n",
              "      <td>1288743.17</td>\n",
              "      <td>48767.0</td>\n",
              "      <td>108.0</td>\n",
              "      <td>Personal Auto</td>\n",
              "      <td>Two-Door Car</td>\n",
              "      <td>566.472247</td>\n",
              "    </tr>\n",
              "    <tr>\n",
              "      <th>3</th>\n",
              "      <td>WW63253</td>\n",
              "      <td>California</td>\n",
              "      <td>M</td>\n",
              "      <td>764586.18</td>\n",
              "      <td>0.0</td>\n",
              "      <td>106.0</td>\n",
              "      <td>Corporate Auto</td>\n",
              "      <td>SUV</td>\n",
              "      <td>529.881344</td>\n",
              "    </tr>\n",
              "    <tr>\n",
              "      <th>4</th>\n",
              "      <td>GA49547</td>\n",
              "      <td>Washington</td>\n",
              "      <td>M</td>\n",
              "      <td>536307.65</td>\n",
              "      <td>36357.0</td>\n",
              "      <td>68.0</td>\n",
              "      <td>Personal Auto</td>\n",
              "      <td>Four-Door Car</td>\n",
              "      <td>17.269323</td>\n",
              "    </tr>\n",
              "  </tbody>\n",
              "</table>\n",
              "</div>"
            ],
            "text/plain": [
              "  customer          st  ...  vehicle class  total claim amount\n",
              "0  RB50392  Washington  ...  Four-Door Car            2.704934\n",
              "1  QZ44356     Arizona  ...  Four-Door Car         1131.464935\n",
              "2  AI49188      Nevada  ...   Two-Door Car          566.472247\n",
              "3  WW63253  California  ...            SUV          529.881344\n",
              "4  GA49547  Washington  ...  Four-Door Car           17.269323\n",
              "\n",
              "[5 rows x 9 columns]"
            ]
          },
          "metadata": {
            "tags": []
          },
          "execution_count": 201
        }
      ]
    },
    {
      "cell_type": "code",
      "metadata": {
        "id": "-IfvahD9WGOQ"
      },
      "source": [
        "#remove_perc_sign = lambda x: if x.str.replace(\"%\",\"\")\n",
        "#tried doing it here first later, but moved the code to the top.\n",
        "#def remove_perc_sign(x):\n",
        " # if type(x)==str:\n",
        " #   return x.replace(\"%\",\" \")\n",
        "    #if x.endswith('%'):\n",
        "      #return x[:-1]\n",
        "    #else:\n",
        "      #return float(x)\n",
        " # else:\n",
        "#    return float(x)\n",
        "\n",
        "#data['customer lifetime value'] = list(map(remove_perc_sign,data['customer lifetime value']))\n",
        "#data['customer lifetime value'].head()\n",
        "#data"
      ],
      "execution_count": null,
      "outputs": []
    },
    {
      "cell_type": "code",
      "metadata": {
        "id": "I9qqIdn8XxYG"
      },
      "source": [
        "#same as last code box\n",
        "#convert to float\n",
        "\n",
        "#def conv_float(x):\n",
        " # if type(x) == str:\n",
        "#    return float(x)\n",
        " # else:\n",
        " #   return x\n",
        "#data['customer lifetime value'] = list(map(conv_float,data['customer lifetime value']))\n",
        "#data['customer lifetime value'].head()"
      ],
      "execution_count": null,
      "outputs": []
    },
    {
      "cell_type": "code",
      "metadata": {
        "colab": {
          "base_uri": "https://localhost:8080/",
          "height": 529
        },
        "id": "0SZjohBlUEHr",
        "outputId": "66563f5d-a6d7-4256-9fd9-6977853e4e33"
      },
      "source": [
        "#Correct the values in the column customer lifetime value. They are given as a percent, so multiply them by 100 and change dtype to numerical type.\n",
        "\n",
        "mult_100 = lambda x: x*100\n",
        "\n",
        "data['customer lifetime value'] = list(map(mult_100, data['customer lifetime value']))\n",
        "\n",
        "#data['customer lifetime value'].head(10)\n",
        "data.head(10)\n"
      ],
      "execution_count": null,
      "outputs": [
        {
          "output_type": "execute_result",
          "data": {
            "text/html": [
              "<div>\n",
              "<style scoped>\n",
              "    .dataframe tbody tr th:only-of-type {\n",
              "        vertical-align: middle;\n",
              "    }\n",
              "\n",
              "    .dataframe tbody tr th {\n",
              "        vertical-align: top;\n",
              "    }\n",
              "\n",
              "    .dataframe thead th {\n",
              "        text-align: right;\n",
              "    }\n",
              "</style>\n",
              "<table border=\"1\" class=\"dataframe\">\n",
              "  <thead>\n",
              "    <tr style=\"text-align: right;\">\n",
              "      <th></th>\n",
              "      <th>customer</th>\n",
              "      <th>st</th>\n",
              "      <th>gender</th>\n",
              "      <th>customer lifetime value</th>\n",
              "      <th>income</th>\n",
              "      <th>monthly premium auto</th>\n",
              "      <th>policy type</th>\n",
              "      <th>vehicle class</th>\n",
              "      <th>total claim amount</th>\n",
              "    </tr>\n",
              "  </thead>\n",
              "  <tbody>\n",
              "    <tr>\n",
              "      <th>0</th>\n",
              "      <td>RB50392</td>\n",
              "      <td>Washington</td>\n",
              "      <td>NaN</td>\n",
              "      <td>NaN</td>\n",
              "      <td>0.0</td>\n",
              "      <td>1000.0</td>\n",
              "      <td>Personal Auto</td>\n",
              "      <td>Four-Door Car</td>\n",
              "      <td>2.704934</td>\n",
              "    </tr>\n",
              "    <tr>\n",
              "      <th>1</th>\n",
              "      <td>QZ44356</td>\n",
              "      <td>Arizona</td>\n",
              "      <td>F</td>\n",
              "      <td>69795359.0</td>\n",
              "      <td>0.0</td>\n",
              "      <td>94.0</td>\n",
              "      <td>Personal Auto</td>\n",
              "      <td>Four-Door Car</td>\n",
              "      <td>1131.464935</td>\n",
              "    </tr>\n",
              "    <tr>\n",
              "      <th>2</th>\n",
              "      <td>AI49188</td>\n",
              "      <td>Nevada</td>\n",
              "      <td>F</td>\n",
              "      <td>128874317.0</td>\n",
              "      <td>48767.0</td>\n",
              "      <td>108.0</td>\n",
              "      <td>Personal Auto</td>\n",
              "      <td>Two-Door Car</td>\n",
              "      <td>566.472247</td>\n",
              "    </tr>\n",
              "    <tr>\n",
              "      <th>3</th>\n",
              "      <td>WW63253</td>\n",
              "      <td>California</td>\n",
              "      <td>M</td>\n",
              "      <td>76458618.0</td>\n",
              "      <td>0.0</td>\n",
              "      <td>106.0</td>\n",
              "      <td>Corporate Auto</td>\n",
              "      <td>SUV</td>\n",
              "      <td>529.881344</td>\n",
              "    </tr>\n",
              "    <tr>\n",
              "      <th>4</th>\n",
              "      <td>GA49547</td>\n",
              "      <td>Washington</td>\n",
              "      <td>M</td>\n",
              "      <td>53630765.0</td>\n",
              "      <td>36357.0</td>\n",
              "      <td>68.0</td>\n",
              "      <td>Personal Auto</td>\n",
              "      <td>Four-Door Car</td>\n",
              "      <td>17.269323</td>\n",
              "    </tr>\n",
              "    <tr>\n",
              "      <th>5</th>\n",
              "      <td>OC83172</td>\n",
              "      <td>Oregon</td>\n",
              "      <td>F</td>\n",
              "      <td>82562978.0</td>\n",
              "      <td>62902.0</td>\n",
              "      <td>69.0</td>\n",
              "      <td>Personal Auto</td>\n",
              "      <td>Two-Door Car</td>\n",
              "      <td>159.383042</td>\n",
              "    </tr>\n",
              "    <tr>\n",
              "      <th>6</th>\n",
              "      <td>XZ87318</td>\n",
              "      <td>Oregon</td>\n",
              "      <td>F</td>\n",
              "      <td>53808986.0</td>\n",
              "      <td>55350.0</td>\n",
              "      <td>67.0</td>\n",
              "      <td>Corporate Auto</td>\n",
              "      <td>Four-Door Car</td>\n",
              "      <td>321.600000</td>\n",
              "    </tr>\n",
              "    <tr>\n",
              "      <th>7</th>\n",
              "      <td>CF85061</td>\n",
              "      <td>Arizona</td>\n",
              "      <td>M</td>\n",
              "      <td>72161003.0</td>\n",
              "      <td>0.0</td>\n",
              "      <td>101.0</td>\n",
              "      <td>Corporate Auto</td>\n",
              "      <td>Four-Door Car</td>\n",
              "      <td>363.029680</td>\n",
              "    </tr>\n",
              "    <tr>\n",
              "      <th>8</th>\n",
              "      <td>DY87989</td>\n",
              "      <td>Oregon</td>\n",
              "      <td>M</td>\n",
              "      <td>241275040.0</td>\n",
              "      <td>14072.0</td>\n",
              "      <td>71.0</td>\n",
              "      <td>Corporate Auto</td>\n",
              "      <td>Four-Door Car</td>\n",
              "      <td>511.200000</td>\n",
              "    </tr>\n",
              "    <tr>\n",
              "      <th>9</th>\n",
              "      <td>BQ94931</td>\n",
              "      <td>Oregon</td>\n",
              "      <td>F</td>\n",
              "      <td>73881781.0</td>\n",
              "      <td>28812.0</td>\n",
              "      <td>93.0</td>\n",
              "      <td>Special Auto</td>\n",
              "      <td>Four-Door Car</td>\n",
              "      <td>425.527834</td>\n",
              "    </tr>\n",
              "  </tbody>\n",
              "</table>\n",
              "</div>"
            ],
            "text/plain": [
              "  customer          st  ...  vehicle class  total claim amount\n",
              "0  RB50392  Washington  ...  Four-Door Car            2.704934\n",
              "1  QZ44356     Arizona  ...  Four-Door Car         1131.464935\n",
              "2  AI49188      Nevada  ...   Two-Door Car          566.472247\n",
              "3  WW63253  California  ...            SUV          529.881344\n",
              "4  GA49547  Washington  ...  Four-Door Car           17.269323\n",
              "5  OC83172      Oregon  ...   Two-Door Car          159.383042\n",
              "6  XZ87318      Oregon  ...  Four-Door Car          321.600000\n",
              "7  CF85061     Arizona  ...  Four-Door Car          363.029680\n",
              "8  DY87989      Oregon  ...  Four-Door Car          511.200000\n",
              "9  BQ94931      Oregon  ...  Four-Door Car          425.527834\n",
              "\n",
              "[10 rows x 9 columns]"
            ]
          },
          "metadata": {
            "tags": []
          },
          "execution_count": 204
        }
      ]
    },
    {
      "cell_type": "code",
      "metadata": {
        "colab": {
          "base_uri": "https://localhost:8080/"
        },
        "id": "NCAo6bZocqSR",
        "outputId": "eb649ecb-7a59-4e9c-ed02-945c0ed2a98b"
      },
      "source": [
        "#already converted dtypes to float above for datafile1 and datafile2\n",
        "#checking it again\n",
        "data['customer lifetime value'].dtypes\n"
      ],
      "execution_count": null,
      "outputs": [
        {
          "output_type": "execute_result",
          "data": {
            "text/plain": [
              "dtype('float64')"
            ]
          },
          "metadata": {
            "tags": []
          },
          "execution_count": 205
        }
      ]
    },
    {
      "cell_type": "code",
      "metadata": {
        "colab": {
          "base_uri": "https://localhost:8080/"
        },
        "id": "A-tb2pxnhgFE",
        "outputId": "55183429-ff1e-4865-ef75-67c9b1a94e0d"
      },
      "source": [
        "#check for duplicate rows in the data and remove if any:\n",
        "\n",
        "#make a duplicate copy of the dataframe\n",
        "data_c = data.copy()\n",
        "data_c.shape"
      ],
      "execution_count": null,
      "outputs": [
        {
          "output_type": "execute_result",
          "data": {
            "text/plain": [
              "(12074, 9)"
            ]
          },
          "metadata": {
            "tags": []
          },
          "execution_count": 206
        }
      ]
    },
    {
      "cell_type": "code",
      "metadata": {
        "colab": {
          "base_uri": "https://localhost:8080/",
          "height": 529
        },
        "id": "7rYUvSyLh5Fk",
        "outputId": "4d55f19e-f8b8-4a12-ab46-4c3092947399"
      },
      "source": [
        "#removing duplicate rows\n",
        "\n",
        "data_c = data_c.drop_duplicates(subset=['customer','gender'],keep='last')\n",
        "data_c.head(10)"
      ],
      "execution_count": null,
      "outputs": [
        {
          "output_type": "execute_result",
          "data": {
            "text/html": [
              "<div>\n",
              "<style scoped>\n",
              "    .dataframe tbody tr th:only-of-type {\n",
              "        vertical-align: middle;\n",
              "    }\n",
              "\n",
              "    .dataframe tbody tr th {\n",
              "        vertical-align: top;\n",
              "    }\n",
              "\n",
              "    .dataframe thead th {\n",
              "        text-align: right;\n",
              "    }\n",
              "</style>\n",
              "<table border=\"1\" class=\"dataframe\">\n",
              "  <thead>\n",
              "    <tr style=\"text-align: right;\">\n",
              "      <th></th>\n",
              "      <th>customer</th>\n",
              "      <th>st</th>\n",
              "      <th>gender</th>\n",
              "      <th>customer lifetime value</th>\n",
              "      <th>income</th>\n",
              "      <th>monthly premium auto</th>\n",
              "      <th>policy type</th>\n",
              "      <th>vehicle class</th>\n",
              "      <th>total claim amount</th>\n",
              "    </tr>\n",
              "  </thead>\n",
              "  <tbody>\n",
              "    <tr>\n",
              "      <th>0</th>\n",
              "      <td>RB50392</td>\n",
              "      <td>Washington</td>\n",
              "      <td>NaN</td>\n",
              "      <td>NaN</td>\n",
              "      <td>0.0</td>\n",
              "      <td>1000.0</td>\n",
              "      <td>Personal Auto</td>\n",
              "      <td>Four-Door Car</td>\n",
              "      <td>2.704934</td>\n",
              "    </tr>\n",
              "    <tr>\n",
              "      <th>1</th>\n",
              "      <td>QZ44356</td>\n",
              "      <td>Arizona</td>\n",
              "      <td>F</td>\n",
              "      <td>69795359.0</td>\n",
              "      <td>0.0</td>\n",
              "      <td>94.0</td>\n",
              "      <td>Personal Auto</td>\n",
              "      <td>Four-Door Car</td>\n",
              "      <td>1131.464935</td>\n",
              "    </tr>\n",
              "    <tr>\n",
              "      <th>2</th>\n",
              "      <td>AI49188</td>\n",
              "      <td>Nevada</td>\n",
              "      <td>F</td>\n",
              "      <td>128874317.0</td>\n",
              "      <td>48767.0</td>\n",
              "      <td>108.0</td>\n",
              "      <td>Personal Auto</td>\n",
              "      <td>Two-Door Car</td>\n",
              "      <td>566.472247</td>\n",
              "    </tr>\n",
              "    <tr>\n",
              "      <th>3</th>\n",
              "      <td>WW63253</td>\n",
              "      <td>California</td>\n",
              "      <td>M</td>\n",
              "      <td>76458618.0</td>\n",
              "      <td>0.0</td>\n",
              "      <td>106.0</td>\n",
              "      <td>Corporate Auto</td>\n",
              "      <td>SUV</td>\n",
              "      <td>529.881344</td>\n",
              "    </tr>\n",
              "    <tr>\n",
              "      <th>5</th>\n",
              "      <td>OC83172</td>\n",
              "      <td>Oregon</td>\n",
              "      <td>F</td>\n",
              "      <td>82562978.0</td>\n",
              "      <td>62902.0</td>\n",
              "      <td>69.0</td>\n",
              "      <td>Personal Auto</td>\n",
              "      <td>Two-Door Car</td>\n",
              "      <td>159.383042</td>\n",
              "    </tr>\n",
              "    <tr>\n",
              "      <th>6</th>\n",
              "      <td>XZ87318</td>\n",
              "      <td>Oregon</td>\n",
              "      <td>F</td>\n",
              "      <td>53808986.0</td>\n",
              "      <td>55350.0</td>\n",
              "      <td>67.0</td>\n",
              "      <td>Corporate Auto</td>\n",
              "      <td>Four-Door Car</td>\n",
              "      <td>321.600000</td>\n",
              "    </tr>\n",
              "    <tr>\n",
              "      <th>7</th>\n",
              "      <td>CF85061</td>\n",
              "      <td>Arizona</td>\n",
              "      <td>M</td>\n",
              "      <td>72161003.0</td>\n",
              "      <td>0.0</td>\n",
              "      <td>101.0</td>\n",
              "      <td>Corporate Auto</td>\n",
              "      <td>Four-Door Car</td>\n",
              "      <td>363.029680</td>\n",
              "    </tr>\n",
              "    <tr>\n",
              "      <th>8</th>\n",
              "      <td>DY87989</td>\n",
              "      <td>Oregon</td>\n",
              "      <td>M</td>\n",
              "      <td>241275040.0</td>\n",
              "      <td>14072.0</td>\n",
              "      <td>71.0</td>\n",
              "      <td>Corporate Auto</td>\n",
              "      <td>Four-Door Car</td>\n",
              "      <td>511.200000</td>\n",
              "    </tr>\n",
              "    <tr>\n",
              "      <th>9</th>\n",
              "      <td>BQ94931</td>\n",
              "      <td>Oregon</td>\n",
              "      <td>F</td>\n",
              "      <td>73881781.0</td>\n",
              "      <td>28812.0</td>\n",
              "      <td>93.0</td>\n",
              "      <td>Special Auto</td>\n",
              "      <td>Four-Door Car</td>\n",
              "      <td>425.527834</td>\n",
              "    </tr>\n",
              "    <tr>\n",
              "      <th>10</th>\n",
              "      <td>SX51350</td>\n",
              "      <td>California</td>\n",
              "      <td>M</td>\n",
              "      <td>47389920.0</td>\n",
              "      <td>0.0</td>\n",
              "      <td>67.0</td>\n",
              "      <td>Personal Auto</td>\n",
              "      <td>Four-Door Car</td>\n",
              "      <td>482.400000</td>\n",
              "    </tr>\n",
              "  </tbody>\n",
              "</table>\n",
              "</div>"
            ],
            "text/plain": [
              "   customer          st  ...  vehicle class  total claim amount\n",
              "0   RB50392  Washington  ...  Four-Door Car            2.704934\n",
              "1   QZ44356     Arizona  ...  Four-Door Car         1131.464935\n",
              "2   AI49188      Nevada  ...   Two-Door Car          566.472247\n",
              "3   WW63253  California  ...            SUV          529.881344\n",
              "5   OC83172      Oregon  ...   Two-Door Car          159.383042\n",
              "6   XZ87318      Oregon  ...  Four-Door Car          321.600000\n",
              "7   CF85061     Arizona  ...  Four-Door Car          363.029680\n",
              "8   DY87989      Oregon  ...  Four-Door Car          511.200000\n",
              "9   BQ94931      Oregon  ...  Four-Door Car          425.527834\n",
              "10  SX51350  California  ...  Four-Door Car          482.400000\n",
              "\n",
              "[10 rows x 9 columns]"
            ]
          },
          "metadata": {
            "tags": []
          },
          "execution_count": 207
        }
      ]
    },
    {
      "cell_type": "code",
      "metadata": {
        "colab": {
          "base_uri": "https://localhost:8080/",
          "height": 306
        },
        "id": "L8kDRgxIlcru",
        "outputId": "bcf1b98d-9e91-468f-9b8c-3fc8078baed4"
      },
      "source": [
        "#filtering the data for customers who have an income of 0 or less\n",
        "data_c['income_zero'] = data_c['income']=0\n",
        "\n",
        "\n",
        "#data_c['income_0_less'] = [(data_c['income']<0)|(data_c['income_zero'])]\n",
        "data_c.head()"
      ],
      "execution_count": null,
      "outputs": [
        {
          "output_type": "execute_result",
          "data": {
            "text/html": [
              "<div>\n",
              "<style scoped>\n",
              "    .dataframe tbody tr th:only-of-type {\n",
              "        vertical-align: middle;\n",
              "    }\n",
              "\n",
              "    .dataframe tbody tr th {\n",
              "        vertical-align: top;\n",
              "    }\n",
              "\n",
              "    .dataframe thead th {\n",
              "        text-align: right;\n",
              "    }\n",
              "</style>\n",
              "<table border=\"1\" class=\"dataframe\">\n",
              "  <thead>\n",
              "    <tr style=\"text-align: right;\">\n",
              "      <th></th>\n",
              "      <th>customer</th>\n",
              "      <th>st</th>\n",
              "      <th>gender</th>\n",
              "      <th>customer lifetime value</th>\n",
              "      <th>income</th>\n",
              "      <th>monthly premium auto</th>\n",
              "      <th>policy type</th>\n",
              "      <th>vehicle class</th>\n",
              "      <th>total claim amount</th>\n",
              "      <th>income_zero</th>\n",
              "    </tr>\n",
              "  </thead>\n",
              "  <tbody>\n",
              "    <tr>\n",
              "      <th>0</th>\n",
              "      <td>RB50392</td>\n",
              "      <td>Washington</td>\n",
              "      <td>NaN</td>\n",
              "      <td>NaN</td>\n",
              "      <td>0</td>\n",
              "      <td>1000.0</td>\n",
              "      <td>Personal Auto</td>\n",
              "      <td>Four-Door Car</td>\n",
              "      <td>2.704934</td>\n",
              "      <td>0</td>\n",
              "    </tr>\n",
              "    <tr>\n",
              "      <th>1</th>\n",
              "      <td>QZ44356</td>\n",
              "      <td>Arizona</td>\n",
              "      <td>F</td>\n",
              "      <td>69795359.0</td>\n",
              "      <td>0</td>\n",
              "      <td>94.0</td>\n",
              "      <td>Personal Auto</td>\n",
              "      <td>Four-Door Car</td>\n",
              "      <td>1131.464935</td>\n",
              "      <td>0</td>\n",
              "    </tr>\n",
              "    <tr>\n",
              "      <th>2</th>\n",
              "      <td>AI49188</td>\n",
              "      <td>Nevada</td>\n",
              "      <td>F</td>\n",
              "      <td>128874317.0</td>\n",
              "      <td>0</td>\n",
              "      <td>108.0</td>\n",
              "      <td>Personal Auto</td>\n",
              "      <td>Two-Door Car</td>\n",
              "      <td>566.472247</td>\n",
              "      <td>0</td>\n",
              "    </tr>\n",
              "    <tr>\n",
              "      <th>3</th>\n",
              "      <td>WW63253</td>\n",
              "      <td>California</td>\n",
              "      <td>M</td>\n",
              "      <td>76458618.0</td>\n",
              "      <td>0</td>\n",
              "      <td>106.0</td>\n",
              "      <td>Corporate Auto</td>\n",
              "      <td>SUV</td>\n",
              "      <td>529.881344</td>\n",
              "      <td>0</td>\n",
              "    </tr>\n",
              "    <tr>\n",
              "      <th>5</th>\n",
              "      <td>OC83172</td>\n",
              "      <td>Oregon</td>\n",
              "      <td>F</td>\n",
              "      <td>82562978.0</td>\n",
              "      <td>0</td>\n",
              "      <td>69.0</td>\n",
              "      <td>Personal Auto</td>\n",
              "      <td>Two-Door Car</td>\n",
              "      <td>159.383042</td>\n",
              "      <td>0</td>\n",
              "    </tr>\n",
              "  </tbody>\n",
              "</table>\n",
              "</div>"
            ],
            "text/plain": [
              "  customer          st gender  ...  vehicle class  total claim amount  income_zero\n",
              "0  RB50392  Washington    NaN  ...  Four-Door Car            2.704934            0\n",
              "1  QZ44356     Arizona      F  ...  Four-Door Car         1131.464935            0\n",
              "2  AI49188      Nevada      F  ...   Two-Door Car          566.472247            0\n",
              "3  WW63253  California      M  ...            SUV          529.881344            0\n",
              "5  OC83172      Oregon      F  ...   Two-Door Car          159.383042            0\n",
              "\n",
              "[5 rows x 10 columns]"
            ]
          },
          "metadata": {
            "tags": []
          },
          "execution_count": 214
        }
      ]
    },
    {
      "cell_type": "code",
      "metadata": {
        "id": "rbCOJPDZmaj6",
        "colab": {
          "base_uri": "https://localhost:8080/",
          "height": 803
        },
        "outputId": "93611c79-5584-4bad-c2af-472ec38c2161"
      },
      "source": [
        "data_c['income_less_zero'] = data_c[data_c['income']<0]\n",
        "data_c.sample(15)"
      ],
      "execution_count": null,
      "outputs": [
        {
          "output_type": "execute_result",
          "data": {
            "text/html": [
              "<div>\n",
              "<style scoped>\n",
              "    .dataframe tbody tr th:only-of-type {\n",
              "        vertical-align: middle;\n",
              "    }\n",
              "\n",
              "    .dataframe tbody tr th {\n",
              "        vertical-align: top;\n",
              "    }\n",
              "\n",
              "    .dataframe thead th {\n",
              "        text-align: right;\n",
              "    }\n",
              "</style>\n",
              "<table border=\"1\" class=\"dataframe\">\n",
              "  <thead>\n",
              "    <tr style=\"text-align: right;\">\n",
              "      <th></th>\n",
              "      <th>customer</th>\n",
              "      <th>st</th>\n",
              "      <th>gender</th>\n",
              "      <th>customer lifetime value</th>\n",
              "      <th>income</th>\n",
              "      <th>monthly premium auto</th>\n",
              "      <th>policy type</th>\n",
              "      <th>vehicle class</th>\n",
              "      <th>total claim amount</th>\n",
              "      <th>income_zero</th>\n",
              "      <th>income_less_zero</th>\n",
              "    </tr>\n",
              "  </thead>\n",
              "  <tbody>\n",
              "    <tr>\n",
              "      <th>6875</th>\n",
              "      <td>GQ42004</td>\n",
              "      <td>NaN</td>\n",
              "      <td>M</td>\n",
              "      <td>1.123298e+06</td>\n",
              "      <td>0</td>\n",
              "      <td>74.0</td>\n",
              "      <td>Personal Auto</td>\n",
              "      <td>Four-Door Car</td>\n",
              "      <td>355.200000</td>\n",
              "      <td>0</td>\n",
              "      <td>NaN</td>\n",
              "    </tr>\n",
              "    <tr>\n",
              "      <th>7058</th>\n",
              "      <td>FH43628</td>\n",
              "      <td>NaN</td>\n",
              "      <td>F</td>\n",
              "      <td>2.546482e+06</td>\n",
              "      <td>0</td>\n",
              "      <td>97.0</td>\n",
              "      <td>Personal Auto</td>\n",
              "      <td>Four-Door Car</td>\n",
              "      <td>465.600000</td>\n",
              "      <td>0</td>\n",
              "      <td>NaN</td>\n",
              "    </tr>\n",
              "    <tr>\n",
              "      <th>1223</th>\n",
              "      <td>EH13261</td>\n",
              "      <td>NaN</td>\n",
              "      <td>M</td>\n",
              "      <td>2.637149e+05</td>\n",
              "      <td>0</td>\n",
              "      <td>67.0</td>\n",
              "      <td>Personal Auto</td>\n",
              "      <td>Four-Door Car</td>\n",
              "      <td>351.403677</td>\n",
              "      <td>0</td>\n",
              "      <td>NaN</td>\n",
              "    </tr>\n",
              "    <tr>\n",
              "      <th>4067</th>\n",
              "      <td>CV63337</td>\n",
              "      <td>NaN</td>\n",
              "      <td>F</td>\n",
              "      <td>3.499140e+05</td>\n",
              "      <td>0</td>\n",
              "      <td>88.0</td>\n",
              "      <td>Personal Auto</td>\n",
              "      <td>Two-Door Car</td>\n",
              "      <td>422.400000</td>\n",
              "      <td>0</td>\n",
              "      <td>NaN</td>\n",
              "    </tr>\n",
              "    <tr>\n",
              "      <th>3454</th>\n",
              "      <td>BM71358</td>\n",
              "      <td>NaN</td>\n",
              "      <td>M</td>\n",
              "      <td>1.078712e+06</td>\n",
              "      <td>0</td>\n",
              "      <td>91.0</td>\n",
              "      <td>Personal Auto</td>\n",
              "      <td>Four-Door Car</td>\n",
              "      <td>147.954285</td>\n",
              "      <td>0</td>\n",
              "      <td>NaN</td>\n",
              "    </tr>\n",
              "    <tr>\n",
              "      <th>3973</th>\n",
              "      <td>UM17151</td>\n",
              "      <td>NaN</td>\n",
              "      <td>M</td>\n",
              "      <td>1.898008e+05</td>\n",
              "      <td>0</td>\n",
              "      <td>67.0</td>\n",
              "      <td>Personal Auto</td>\n",
              "      <td>Two-Door Car</td>\n",
              "      <td>413.606733</td>\n",
              "      <td>0</td>\n",
              "      <td>NaN</td>\n",
              "    </tr>\n",
              "    <tr>\n",
              "      <th>4925</th>\n",
              "      <td>TN71469</td>\n",
              "      <td>NaN</td>\n",
              "      <td>F</td>\n",
              "      <td>4.349104e+05</td>\n",
              "      <td>0</td>\n",
              "      <td>110.0</td>\n",
              "      <td>Personal Auto</td>\n",
              "      <td>SUV</td>\n",
              "      <td>700.004018</td>\n",
              "      <td>0</td>\n",
              "      <td>NaN</td>\n",
              "    </tr>\n",
              "    <tr>\n",
              "      <th>3266</th>\n",
              "      <td>GS26763</td>\n",
              "      <td>NaN</td>\n",
              "      <td>F</td>\n",
              "      <td>1.163358e+06</td>\n",
              "      <td>0</td>\n",
              "      <td>98.0</td>\n",
              "      <td>Personal Auto</td>\n",
              "      <td>Two-Door Car</td>\n",
              "      <td>492.935479</td>\n",
              "      <td>0</td>\n",
              "      <td>NaN</td>\n",
              "    </tr>\n",
              "    <tr>\n",
              "      <th>406</th>\n",
              "      <td>TR67616</td>\n",
              "      <td>Oregon</td>\n",
              "      <td>M</td>\n",
              "      <td>4.731367e+07</td>\n",
              "      <td>0</td>\n",
              "      <td>61.0</td>\n",
              "      <td>Corporate Auto</td>\n",
              "      <td>Four-Door Car</td>\n",
              "      <td>19.938981</td>\n",
              "      <td>0</td>\n",
              "      <td>NaN</td>\n",
              "    </tr>\n",
              "    <tr>\n",
              "      <th>623</th>\n",
              "      <td>NL41409</td>\n",
              "      <td>Oregon</td>\n",
              "      <td>F</td>\n",
              "      <td>2.606208e+07</td>\n",
              "      <td>0</td>\n",
              "      <td>66.0</td>\n",
              "      <td>Personal Auto</td>\n",
              "      <td>Two-Door Car</td>\n",
              "      <td>456.473115</td>\n",
              "      <td>0</td>\n",
              "      <td>NaN</td>\n",
              "    </tr>\n",
              "    <tr>\n",
              "      <th>3859</th>\n",
              "      <td>AZ38648</td>\n",
              "      <td>NaN</td>\n",
              "      <td>F</td>\n",
              "      <td>1.198198e+06</td>\n",
              "      <td>0</td>\n",
              "      <td>62.0</td>\n",
              "      <td>Personal Auto</td>\n",
              "      <td>Two-Door Car</td>\n",
              "      <td>257.248789</td>\n",
              "      <td>0</td>\n",
              "      <td>NaN</td>\n",
              "    </tr>\n",
              "    <tr>\n",
              "      <th>219</th>\n",
              "      <td>KJ50265</td>\n",
              "      <td>NaN</td>\n",
              "      <td>M</td>\n",
              "      <td>1.041831e+06</td>\n",
              "      <td>0</td>\n",
              "      <td>91.0</td>\n",
              "      <td>Personal Auto</td>\n",
              "      <td>Four-Door Car</td>\n",
              "      <td>436.800000</td>\n",
              "      <td>0</td>\n",
              "      <td>NaN</td>\n",
              "    </tr>\n",
              "    <tr>\n",
              "      <th>872</th>\n",
              "      <td>JO64487</td>\n",
              "      <td>NaN</td>\n",
              "      <td>F</td>\n",
              "      <td>6.943742e+05</td>\n",
              "      <td>0</td>\n",
              "      <td>76.0</td>\n",
              "      <td>Special Auto</td>\n",
              "      <td>Four-Door Car</td>\n",
              "      <td>547.200000</td>\n",
              "      <td>0</td>\n",
              "      <td>NaN</td>\n",
              "    </tr>\n",
              "    <tr>\n",
              "      <th>1274</th>\n",
              "      <td>QL10321</td>\n",
              "      <td>NaN</td>\n",
              "      <td>F</td>\n",
              "      <td>5.768831e+05</td>\n",
              "      <td>0</td>\n",
              "      <td>71.0</td>\n",
              "      <td>Personal Auto</td>\n",
              "      <td>Four-Door Car</td>\n",
              "      <td>109.296118</td>\n",
              "      <td>0</td>\n",
              "      <td>NaN</td>\n",
              "    </tr>\n",
              "    <tr>\n",
              "      <th>3996</th>\n",
              "      <td>MO65595</td>\n",
              "      <td>NaN</td>\n",
              "      <td>F</td>\n",
              "      <td>3.386532e+05</td>\n",
              "      <td>0</td>\n",
              "      <td>92.0</td>\n",
              "      <td>Personal Auto</td>\n",
              "      <td>Two-Door Car</td>\n",
              "      <td>571.593637</td>\n",
              "      <td>0</td>\n",
              "      <td>NaN</td>\n",
              "    </tr>\n",
              "  </tbody>\n",
              "</table>\n",
              "</div>"
            ],
            "text/plain": [
              "     customer      st gender  ...  total claim amount  income_zero  income_less_zero\n",
              "6875  GQ42004     NaN      M  ...          355.200000            0               NaN\n",
              "7058  FH43628     NaN      F  ...          465.600000            0               NaN\n",
              "1223  EH13261     NaN      M  ...          351.403677            0               NaN\n",
              "4067  CV63337     NaN      F  ...          422.400000            0               NaN\n",
              "3454  BM71358     NaN      M  ...          147.954285            0               NaN\n",
              "3973  UM17151     NaN      M  ...          413.606733            0               NaN\n",
              "4925  TN71469     NaN      F  ...          700.004018            0               NaN\n",
              "3266  GS26763     NaN      F  ...          492.935479            0               NaN\n",
              "406   TR67616  Oregon      M  ...           19.938981            0               NaN\n",
              "623   NL41409  Oregon      F  ...          456.473115            0               NaN\n",
              "3859  AZ38648     NaN      F  ...          257.248789            0               NaN\n",
              "219   KJ50265     NaN      M  ...          436.800000            0               NaN\n",
              "872   JO64487     NaN      F  ...          547.200000            0               NaN\n",
              "1274  QL10321     NaN      F  ...          109.296118            0               NaN\n",
              "3996  MO65595     NaN      F  ...          571.593637            0               NaN\n",
              "\n",
              "[15 rows x 11 columns]"
            ]
          },
          "metadata": {
            "tags": []
          },
          "execution_count": 223
        }
      ]
    },
    {
      "cell_type": "code",
      "metadata": {
        "colab": {
          "base_uri": "https://localhost:8080/",
          "height": 324
        },
        "id": "4uim3fpnqF6X",
        "outputId": "d797972f-b399-4bcd-a6cb-103282ddef81"
      },
      "source": [
        "data_c['income_0_less'] = [(data_c['income_zero'])|(data_c['income_less_zero'])]\n",
        "data_c.head()"
      ],
      "execution_count": null,
      "outputs": [
        {
          "output_type": "error",
          "ename": "ValueError",
          "evalue": "ignored",
          "traceback": [
            "\u001b[0;31m---------------------------------------------------------------------------\u001b[0m",
            "\u001b[0;31mValueError\u001b[0m                                Traceback (most recent call last)",
            "\u001b[0;32m<ipython-input-224-53de9ea6a249>\u001b[0m in \u001b[0;36m<module>\u001b[0;34m()\u001b[0m\n\u001b[0;32m----> 1\u001b[0;31m \u001b[0mdata_c\u001b[0m\u001b[0;34m[\u001b[0m\u001b[0;34m'income_0_less'\u001b[0m\u001b[0;34m]\u001b[0m \u001b[0;34m=\u001b[0m \u001b[0;34m[\u001b[0m\u001b[0;34m(\u001b[0m\u001b[0mdata_c\u001b[0m\u001b[0;34m[\u001b[0m\u001b[0;34m'income_zero'\u001b[0m\u001b[0;34m]\u001b[0m\u001b[0;34m)\u001b[0m\u001b[0;34m|\u001b[0m\u001b[0;34m(\u001b[0m\u001b[0mdata_c\u001b[0m\u001b[0;34m[\u001b[0m\u001b[0;34m'income_less_zero'\u001b[0m\u001b[0;34m]\u001b[0m\u001b[0;34m)\u001b[0m\u001b[0;34m]\u001b[0m\u001b[0;34m\u001b[0m\u001b[0;34m\u001b[0m\u001b[0m\n\u001b[0m\u001b[1;32m      2\u001b[0m \u001b[0mdata_c\u001b[0m\u001b[0;34m.\u001b[0m\u001b[0mhead\u001b[0m\u001b[0;34m(\u001b[0m\u001b[0;34m)\u001b[0m\u001b[0;34m\u001b[0m\u001b[0;34m\u001b[0m\u001b[0m\n",
            "\u001b[0;32m/usr/local/lib/python3.7/dist-packages/pandas/core/frame.py\u001b[0m in \u001b[0;36m__setitem__\u001b[0;34m(self, key, value)\u001b[0m\n\u001b[1;32m   3042\u001b[0m         \u001b[0;32melse\u001b[0m\u001b[0;34m:\u001b[0m\u001b[0;34m\u001b[0m\u001b[0;34m\u001b[0m\u001b[0m\n\u001b[1;32m   3043\u001b[0m             \u001b[0;31m# set column\u001b[0m\u001b[0;34m\u001b[0m\u001b[0;34m\u001b[0m\u001b[0;34m\u001b[0m\u001b[0m\n\u001b[0;32m-> 3044\u001b[0;31m             \u001b[0mself\u001b[0m\u001b[0;34m.\u001b[0m\u001b[0m_set_item\u001b[0m\u001b[0;34m(\u001b[0m\u001b[0mkey\u001b[0m\u001b[0;34m,\u001b[0m \u001b[0mvalue\u001b[0m\u001b[0;34m)\u001b[0m\u001b[0;34m\u001b[0m\u001b[0;34m\u001b[0m\u001b[0m\n\u001b[0m\u001b[1;32m   3045\u001b[0m \u001b[0;34m\u001b[0m\u001b[0m\n\u001b[1;32m   3046\u001b[0m     \u001b[0;32mdef\u001b[0m \u001b[0m_setitem_slice\u001b[0m\u001b[0;34m(\u001b[0m\u001b[0mself\u001b[0m\u001b[0;34m,\u001b[0m \u001b[0mkey\u001b[0m\u001b[0;34m:\u001b[0m \u001b[0mslice\u001b[0m\u001b[0;34m,\u001b[0m \u001b[0mvalue\u001b[0m\u001b[0;34m)\u001b[0m\u001b[0;34m:\u001b[0m\u001b[0;34m\u001b[0m\u001b[0;34m\u001b[0m\u001b[0m\n",
            "\u001b[0;32m/usr/local/lib/python3.7/dist-packages/pandas/core/frame.py\u001b[0m in \u001b[0;36m_set_item\u001b[0;34m(self, key, value)\u001b[0m\n\u001b[1;32m   3118\u001b[0m         \"\"\"\n\u001b[1;32m   3119\u001b[0m         \u001b[0mself\u001b[0m\u001b[0;34m.\u001b[0m\u001b[0m_ensure_valid_index\u001b[0m\u001b[0;34m(\u001b[0m\u001b[0mvalue\u001b[0m\u001b[0;34m)\u001b[0m\u001b[0;34m\u001b[0m\u001b[0;34m\u001b[0m\u001b[0m\n\u001b[0;32m-> 3120\u001b[0;31m         \u001b[0mvalue\u001b[0m \u001b[0;34m=\u001b[0m \u001b[0mself\u001b[0m\u001b[0;34m.\u001b[0m\u001b[0m_sanitize_column\u001b[0m\u001b[0;34m(\u001b[0m\u001b[0mkey\u001b[0m\u001b[0;34m,\u001b[0m \u001b[0mvalue\u001b[0m\u001b[0;34m)\u001b[0m\u001b[0;34m\u001b[0m\u001b[0;34m\u001b[0m\u001b[0m\n\u001b[0m\u001b[1;32m   3121\u001b[0m         \u001b[0mNDFrame\u001b[0m\u001b[0;34m.\u001b[0m\u001b[0m_set_item\u001b[0m\u001b[0;34m(\u001b[0m\u001b[0mself\u001b[0m\u001b[0;34m,\u001b[0m \u001b[0mkey\u001b[0m\u001b[0;34m,\u001b[0m \u001b[0mvalue\u001b[0m\u001b[0;34m)\u001b[0m\u001b[0;34m\u001b[0m\u001b[0;34m\u001b[0m\u001b[0m\n\u001b[1;32m   3122\u001b[0m \u001b[0;34m\u001b[0m\u001b[0m\n",
            "\u001b[0;32m/usr/local/lib/python3.7/dist-packages/pandas/core/frame.py\u001b[0m in \u001b[0;36m_sanitize_column\u001b[0;34m(self, key, value, broadcast)\u001b[0m\n\u001b[1;32m   3766\u001b[0m \u001b[0;34m\u001b[0m\u001b[0m\n\u001b[1;32m   3767\u001b[0m             \u001b[0;31m# turn me into an ndarray\u001b[0m\u001b[0;34m\u001b[0m\u001b[0;34m\u001b[0m\u001b[0;34m\u001b[0m\u001b[0m\n\u001b[0;32m-> 3768\u001b[0;31m             \u001b[0mvalue\u001b[0m \u001b[0;34m=\u001b[0m \u001b[0msanitize_index\u001b[0m\u001b[0;34m(\u001b[0m\u001b[0mvalue\u001b[0m\u001b[0;34m,\u001b[0m \u001b[0mself\u001b[0m\u001b[0;34m.\u001b[0m\u001b[0mindex\u001b[0m\u001b[0;34m)\u001b[0m\u001b[0;34m\u001b[0m\u001b[0;34m\u001b[0m\u001b[0m\n\u001b[0m\u001b[1;32m   3769\u001b[0m             \u001b[0;32mif\u001b[0m \u001b[0;32mnot\u001b[0m \u001b[0misinstance\u001b[0m\u001b[0;34m(\u001b[0m\u001b[0mvalue\u001b[0m\u001b[0;34m,\u001b[0m \u001b[0;34m(\u001b[0m\u001b[0mnp\u001b[0m\u001b[0;34m.\u001b[0m\u001b[0mndarray\u001b[0m\u001b[0;34m,\u001b[0m \u001b[0mIndex\u001b[0m\u001b[0;34m)\u001b[0m\u001b[0;34m)\u001b[0m\u001b[0;34m:\u001b[0m\u001b[0;34m\u001b[0m\u001b[0;34m\u001b[0m\u001b[0m\n\u001b[1;32m   3770\u001b[0m                 \u001b[0;32mif\u001b[0m \u001b[0misinstance\u001b[0m\u001b[0;34m(\u001b[0m\u001b[0mvalue\u001b[0m\u001b[0;34m,\u001b[0m \u001b[0mlist\u001b[0m\u001b[0;34m)\u001b[0m \u001b[0;32mand\u001b[0m \u001b[0mlen\u001b[0m\u001b[0;34m(\u001b[0m\u001b[0mvalue\u001b[0m\u001b[0;34m)\u001b[0m \u001b[0;34m>\u001b[0m \u001b[0;36m0\u001b[0m\u001b[0;34m:\u001b[0m\u001b[0;34m\u001b[0m\u001b[0;34m\u001b[0m\u001b[0m\n",
            "\u001b[0;32m/usr/local/lib/python3.7/dist-packages/pandas/core/internals/construction.py\u001b[0m in \u001b[0;36msanitize_index\u001b[0;34m(data, index)\u001b[0m\n\u001b[1;32m    746\u001b[0m     \u001b[0;32mif\u001b[0m \u001b[0mlen\u001b[0m\u001b[0;34m(\u001b[0m\u001b[0mdata\u001b[0m\u001b[0;34m)\u001b[0m \u001b[0;34m!=\u001b[0m \u001b[0mlen\u001b[0m\u001b[0;34m(\u001b[0m\u001b[0mindex\u001b[0m\u001b[0;34m)\u001b[0m\u001b[0;34m:\u001b[0m\u001b[0;34m\u001b[0m\u001b[0;34m\u001b[0m\u001b[0m\n\u001b[1;32m    747\u001b[0m         raise ValueError(\n\u001b[0;32m--> 748\u001b[0;31m             \u001b[0;34m\"Length of values \"\u001b[0m\u001b[0;34m\u001b[0m\u001b[0;34m\u001b[0m\u001b[0m\n\u001b[0m\u001b[1;32m    749\u001b[0m             \u001b[0;34mf\"({len(data)}) \"\u001b[0m\u001b[0;34m\u001b[0m\u001b[0;34m\u001b[0m\u001b[0m\n\u001b[1;32m    750\u001b[0m             \u001b[0;34m\"does not match length of index \"\u001b[0m\u001b[0;34m\u001b[0m\u001b[0;34m\u001b[0m\u001b[0m\n",
            "\u001b[0;31mValueError\u001b[0m: Length of values (1) does not match length of index (9057)"
          ]
        }
      ]
    },
    {
      "cell_type": "code",
      "metadata": {
        "id": "TWG0LFQ1rZBk"
      },
      "source": [
        ""
      ],
      "execution_count": null,
      "outputs": []
    }
  ]
}